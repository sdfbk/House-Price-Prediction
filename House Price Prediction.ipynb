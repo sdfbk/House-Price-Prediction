{
 "cells": [
  {
   "cell_type": "code",
   "execution_count": 104,
   "id": "946a4820-e0a3-40f6-bc92-203e6833b88d",
   "metadata": {},
   "outputs": [],
   "source": [
    "import numpy as np\n",
    "import pandas as pd\n",
    "import matplotlib.pyplot as plt\n",
    "import seaborn as sns\n",
    "import warnings\n",
    "warnings.filterwarnings('ignore')"
   ]
  },
  {
   "cell_type": "code",
   "execution_count": 105,
   "id": "eeb9d0d5-2d8f-437e-96f9-4b8c83e6b8ff",
   "metadata": {},
   "outputs": [
    {
     "data": {
      "text/html": [
       "<div>\n",
       "<style scoped>\n",
       "    .dataframe tbody tr th:only-of-type {\n",
       "        vertical-align: middle;\n",
       "    }\n",
       "\n",
       "    .dataframe tbody tr th {\n",
       "        vertical-align: top;\n",
       "    }\n",
       "\n",
       "    .dataframe thead th {\n",
       "        text-align: right;\n",
       "    }\n",
       "</style>\n",
       "<table border=\"1\" class=\"dataframe\">\n",
       "  <thead>\n",
       "    <tr style=\"text-align: right;\">\n",
       "      <th></th>\n",
       "      <th>Unnamed: 0</th>\n",
       "      <th>property_type</th>\n",
       "      <th>price</th>\n",
       "      <th>location</th>\n",
       "      <th>city</th>\n",
       "      <th>baths</th>\n",
       "      <th>purpose</th>\n",
       "      <th>bedrooms</th>\n",
       "      <th>Area_in_Marla</th>\n",
       "    </tr>\n",
       "  </thead>\n",
       "  <tbody>\n",
       "    <tr>\n",
       "      <th>0</th>\n",
       "      <td>0</td>\n",
       "      <td>Flat</td>\n",
       "      <td>10000000</td>\n",
       "      <td>G-10</td>\n",
       "      <td>Islamabad</td>\n",
       "      <td>2</td>\n",
       "      <td>For Sale</td>\n",
       "      <td>2</td>\n",
       "      <td>4.0</td>\n",
       "    </tr>\n",
       "    <tr>\n",
       "      <th>1</th>\n",
       "      <td>1</td>\n",
       "      <td>Flat</td>\n",
       "      <td>6900000</td>\n",
       "      <td>E-11</td>\n",
       "      <td>Islamabad</td>\n",
       "      <td>3</td>\n",
       "      <td>For Sale</td>\n",
       "      <td>3</td>\n",
       "      <td>5.6</td>\n",
       "    </tr>\n",
       "    <tr>\n",
       "      <th>2</th>\n",
       "      <td>2</td>\n",
       "      <td>House</td>\n",
       "      <td>16500000</td>\n",
       "      <td>G-15</td>\n",
       "      <td>Islamabad</td>\n",
       "      <td>6</td>\n",
       "      <td>For Sale</td>\n",
       "      <td>5</td>\n",
       "      <td>8.0</td>\n",
       "    </tr>\n",
       "    <tr>\n",
       "      <th>3</th>\n",
       "      <td>3</td>\n",
       "      <td>House</td>\n",
       "      <td>43500000</td>\n",
       "      <td>Bani Gala</td>\n",
       "      <td>Islamabad</td>\n",
       "      <td>4</td>\n",
       "      <td>For Sale</td>\n",
       "      <td>4</td>\n",
       "      <td>40.0</td>\n",
       "    </tr>\n",
       "    <tr>\n",
       "      <th>4</th>\n",
       "      <td>4</td>\n",
       "      <td>House</td>\n",
       "      <td>7000000</td>\n",
       "      <td>DHA Defence</td>\n",
       "      <td>Islamabad</td>\n",
       "      <td>3</td>\n",
       "      <td>For Sale</td>\n",
       "      <td>3</td>\n",
       "      <td>8.0</td>\n",
       "    </tr>\n",
       "  </tbody>\n",
       "</table>\n",
       "</div>"
      ],
      "text/plain": [
       "   Unnamed: 0 property_type     price     location       city  baths  \\\n",
       "0           0          Flat  10000000         G-10  Islamabad      2   \n",
       "1           1          Flat   6900000         E-11  Islamabad      3   \n",
       "2           2         House  16500000         G-15  Islamabad      6   \n",
       "3           3         House  43500000    Bani Gala  Islamabad      4   \n",
       "4           4         House   7000000  DHA Defence  Islamabad      3   \n",
       "\n",
       "    purpose  bedrooms  Area_in_Marla  \n",
       "0  For Sale         2            4.0  \n",
       "1  For Sale         3            5.6  \n",
       "2  For Sale         5            8.0  \n",
       "3  For Sale         4           40.0  \n",
       "4  For Sale         3            8.0  "
      ]
     },
     "execution_count": 105,
     "metadata": {},
     "output_type": "execute_result"
    }
   ],
   "source": [
    "df = pd.read_csv('house_prices.csv')\n",
    "df.head()"
   ]
  },
  {
   "cell_type": "code",
   "execution_count": 106,
   "id": "b34f384a-1348-4b1a-8145-1ddb84c844d4",
   "metadata": {},
   "outputs": [],
   "source": [
    "df.drop(['Unnamed: 0'],axis = 'columns',inplace = True)"
   ]
  },
  {
   "cell_type": "code",
   "execution_count": 107,
   "id": "b967e1da-fc6a-4daa-9ee6-f8e400cc5f60",
   "metadata": {},
   "outputs": [
    {
     "data": {
      "text/html": [
       "<div>\n",
       "<style scoped>\n",
       "    .dataframe tbody tr th:only-of-type {\n",
       "        vertical-align: middle;\n",
       "    }\n",
       "\n",
       "    .dataframe tbody tr th {\n",
       "        vertical-align: top;\n",
       "    }\n",
       "\n",
       "    .dataframe thead th {\n",
       "        text-align: right;\n",
       "    }\n",
       "</style>\n",
       "<table border=\"1\" class=\"dataframe\">\n",
       "  <thead>\n",
       "    <tr style=\"text-align: right;\">\n",
       "      <th></th>\n",
       "      <th>property_type</th>\n",
       "      <th>price</th>\n",
       "      <th>location</th>\n",
       "      <th>city</th>\n",
       "      <th>baths</th>\n",
       "      <th>purpose</th>\n",
       "      <th>bedrooms</th>\n",
       "      <th>Area_in_Marla</th>\n",
       "    </tr>\n",
       "  </thead>\n",
       "  <tbody>\n",
       "    <tr>\n",
       "      <th>64940</th>\n",
       "      <td>Flat</td>\n",
       "      <td>12100000</td>\n",
       "      <td>Bahria Town Karachi</td>\n",
       "      <td>Karachi</td>\n",
       "      <td>3</td>\n",
       "      <td>For Sale</td>\n",
       "      <td>3</td>\n",
       "      <td>10.0</td>\n",
       "    </tr>\n",
       "    <tr>\n",
       "      <th>92921</th>\n",
       "      <td>Flat</td>\n",
       "      <td>4400000</td>\n",
       "      <td>Bahria Town Karachi</td>\n",
       "      <td>Karachi</td>\n",
       "      <td>2</td>\n",
       "      <td>For Sale</td>\n",
       "      <td>2</td>\n",
       "      <td>4.2</td>\n",
       "    </tr>\n",
       "    <tr>\n",
       "      <th>8269</th>\n",
       "      <td>House</td>\n",
       "      <td>60000</td>\n",
       "      <td>Naval Anchorage</td>\n",
       "      <td>Islamabad</td>\n",
       "      <td>4</td>\n",
       "      <td>For Rent</td>\n",
       "      <td>3</td>\n",
       "      <td>20.0</td>\n",
       "    </tr>\n",
       "    <tr>\n",
       "      <th>88934</th>\n",
       "      <td>House</td>\n",
       "      <td>10500000</td>\n",
       "      <td>Township</td>\n",
       "      <td>Lahore</td>\n",
       "      <td>4</td>\n",
       "      <td>For Sale</td>\n",
       "      <td>4</td>\n",
       "      <td>5.0</td>\n",
       "    </tr>\n",
       "    <tr>\n",
       "      <th>51923</th>\n",
       "      <td>Flat</td>\n",
       "      <td>7500000</td>\n",
       "      <td>DHA Defence</td>\n",
       "      <td>Karachi</td>\n",
       "      <td>2</td>\n",
       "      <td>For Sale</td>\n",
       "      <td>2</td>\n",
       "      <td>4.0</td>\n",
       "    </tr>\n",
       "    <tr>\n",
       "      <th>17506</th>\n",
       "      <td>House</td>\n",
       "      <td>13000000</td>\n",
       "      <td>Dhok Kashmirian</td>\n",
       "      <td>Rawalpindi</td>\n",
       "      <td>6</td>\n",
       "      <td>For Sale</td>\n",
       "      <td>0</td>\n",
       "      <td>5.0</td>\n",
       "    </tr>\n",
       "    <tr>\n",
       "      <th>4107</th>\n",
       "      <td>House</td>\n",
       "      <td>30000000</td>\n",
       "      <td>Gulshan-e-Ravi</td>\n",
       "      <td>Lahore</td>\n",
       "      <td>4</td>\n",
       "      <td>For Sale</td>\n",
       "      <td>5</td>\n",
       "      <td>13.0</td>\n",
       "    </tr>\n",
       "    <tr>\n",
       "      <th>4256</th>\n",
       "      <td>House</td>\n",
       "      <td>17500000</td>\n",
       "      <td>State Life Housing Society</td>\n",
       "      <td>Lahore</td>\n",
       "      <td>5</td>\n",
       "      <td>For Sale</td>\n",
       "      <td>4</td>\n",
       "      <td>10.0</td>\n",
       "    </tr>\n",
       "    <tr>\n",
       "      <th>47598</th>\n",
       "      <td>House</td>\n",
       "      <td>200000</td>\n",
       "      <td>G-6</td>\n",
       "      <td>Islamabad</td>\n",
       "      <td>4</td>\n",
       "      <td>For Rent</td>\n",
       "      <td>5</td>\n",
       "      <td>22.0</td>\n",
       "    </tr>\n",
       "    <tr>\n",
       "      <th>85532</th>\n",
       "      <td>House</td>\n",
       "      <td>38000</td>\n",
       "      <td>Bahria Town Karachi</td>\n",
       "      <td>Karachi</td>\n",
       "      <td>2</td>\n",
       "      <td>For Rent</td>\n",
       "      <td>4</td>\n",
       "      <td>8.0</td>\n",
       "    </tr>\n",
       "    <tr>\n",
       "      <th>396</th>\n",
       "      <td>House</td>\n",
       "      <td>40000000</td>\n",
       "      <td>Gulberg</td>\n",
       "      <td>Lahore</td>\n",
       "      <td>4</td>\n",
       "      <td>For Sale</td>\n",
       "      <td>4</td>\n",
       "      <td>14.0</td>\n",
       "    </tr>\n",
       "    <tr>\n",
       "      <th>39585</th>\n",
       "      <td>Upper Portion</td>\n",
       "      <td>33000</td>\n",
       "      <td>E-11</td>\n",
       "      <td>Islamabad</td>\n",
       "      <td>2</td>\n",
       "      <td>For Rent</td>\n",
       "      <td>2</td>\n",
       "      <td>6.0</td>\n",
       "    </tr>\n",
       "    <tr>\n",
       "      <th>44047</th>\n",
       "      <td>House</td>\n",
       "      <td>12000000</td>\n",
       "      <td>State Life Housing Society</td>\n",
       "      <td>Lahore</td>\n",
       "      <td>4</td>\n",
       "      <td>For Sale</td>\n",
       "      <td>3</td>\n",
       "      <td>5.0</td>\n",
       "    </tr>\n",
       "    <tr>\n",
       "      <th>16173</th>\n",
       "      <td>Upper Portion</td>\n",
       "      <td>85000</td>\n",
       "      <td>F-11</td>\n",
       "      <td>Islamabad</td>\n",
       "      <td>3</td>\n",
       "      <td>For Rent</td>\n",
       "      <td>3</td>\n",
       "      <td>20.0</td>\n",
       "    </tr>\n",
       "    <tr>\n",
       "      <th>48398</th>\n",
       "      <td>Flat</td>\n",
       "      <td>21600000</td>\n",
       "      <td>G-11</td>\n",
       "      <td>Islamabad</td>\n",
       "      <td>3</td>\n",
       "      <td>For Sale</td>\n",
       "      <td>3</td>\n",
       "      <td>8.7</td>\n",
       "    </tr>\n",
       "    <tr>\n",
       "      <th>71576</th>\n",
       "      <td>House</td>\n",
       "      <td>10500000</td>\n",
       "      <td>Canal Garden</td>\n",
       "      <td>Lahore</td>\n",
       "      <td>5</td>\n",
       "      <td>For Sale</td>\n",
       "      <td>4</td>\n",
       "      <td>5.0</td>\n",
       "    </tr>\n",
       "    <tr>\n",
       "      <th>14498</th>\n",
       "      <td>House</td>\n",
       "      <td>33000000</td>\n",
       "      <td>State Life Housing Society</td>\n",
       "      <td>Lahore</td>\n",
       "      <td>6</td>\n",
       "      <td>For Sale</td>\n",
       "      <td>5</td>\n",
       "      <td>20.0</td>\n",
       "    </tr>\n",
       "    <tr>\n",
       "      <th>24450</th>\n",
       "      <td>House</td>\n",
       "      <td>25000</td>\n",
       "      <td>Bahria Town Karachi</td>\n",
       "      <td>Karachi</td>\n",
       "      <td>3</td>\n",
       "      <td>For Rent</td>\n",
       "      <td>3</td>\n",
       "      <td>6.0</td>\n",
       "    </tr>\n",
       "    <tr>\n",
       "      <th>44758</th>\n",
       "      <td>House</td>\n",
       "      <td>13000000</td>\n",
       "      <td>Bahria Town</td>\n",
       "      <td>Lahore</td>\n",
       "      <td>4</td>\n",
       "      <td>For Sale</td>\n",
       "      <td>3</td>\n",
       "      <td>5.0</td>\n",
       "    </tr>\n",
       "    <tr>\n",
       "      <th>30762</th>\n",
       "      <td>House</td>\n",
       "      <td>73000</td>\n",
       "      <td>G-13</td>\n",
       "      <td>Islamabad</td>\n",
       "      <td>6</td>\n",
       "      <td>For Rent</td>\n",
       "      <td>5</td>\n",
       "      <td>8.0</td>\n",
       "    </tr>\n",
       "  </tbody>\n",
       "</table>\n",
       "</div>"
      ],
      "text/plain": [
       "       property_type     price                    location        city  baths  \\\n",
       "64940           Flat  12100000         Bahria Town Karachi     Karachi      3   \n",
       "92921           Flat   4400000         Bahria Town Karachi     Karachi      2   \n",
       "8269           House     60000             Naval Anchorage   Islamabad      4   \n",
       "88934          House  10500000                    Township      Lahore      4   \n",
       "51923           Flat   7500000                 DHA Defence     Karachi      2   \n",
       "17506          House  13000000             Dhok Kashmirian  Rawalpindi      6   \n",
       "4107           House  30000000              Gulshan-e-Ravi      Lahore      4   \n",
       "4256           House  17500000  State Life Housing Society      Lahore      5   \n",
       "47598          House    200000                         G-6   Islamabad      4   \n",
       "85532          House     38000         Bahria Town Karachi     Karachi      2   \n",
       "396            House  40000000                     Gulberg      Lahore      4   \n",
       "39585  Upper Portion     33000                        E-11   Islamabad      2   \n",
       "44047          House  12000000  State Life Housing Society      Lahore      4   \n",
       "16173  Upper Portion     85000                        F-11   Islamabad      3   \n",
       "48398           Flat  21600000                        G-11   Islamabad      3   \n",
       "71576          House  10500000                Canal Garden      Lahore      5   \n",
       "14498          House  33000000  State Life Housing Society      Lahore      6   \n",
       "24450          House     25000         Bahria Town Karachi     Karachi      3   \n",
       "44758          House  13000000                 Bahria Town      Lahore      4   \n",
       "30762          House     73000                        G-13   Islamabad      6   \n",
       "\n",
       "        purpose  bedrooms  Area_in_Marla  \n",
       "64940  For Sale         3           10.0  \n",
       "92921  For Sale         2            4.2  \n",
       "8269   For Rent         3           20.0  \n",
       "88934  For Sale         4            5.0  \n",
       "51923  For Sale         2            4.0  \n",
       "17506  For Sale         0            5.0  \n",
       "4107   For Sale         5           13.0  \n",
       "4256   For Sale         4           10.0  \n",
       "47598  For Rent         5           22.0  \n",
       "85532  For Rent         4            8.0  \n",
       "396    For Sale         4           14.0  \n",
       "39585  For Rent         2            6.0  \n",
       "44047  For Sale         3            5.0  \n",
       "16173  For Rent         3           20.0  \n",
       "48398  For Sale         3            8.7  \n",
       "71576  For Sale         4            5.0  \n",
       "14498  For Sale         5           20.0  \n",
       "24450  For Rent         3            6.0  \n",
       "44758  For Sale         3            5.0  \n",
       "30762  For Rent         5            8.0  "
      ]
     },
     "execution_count": 107,
     "metadata": {},
     "output_type": "execute_result"
    }
   ],
   "source": [
    "df.sample(20)"
   ]
  },
  {
   "cell_type": "code",
   "execution_count": 108,
   "id": "c6b603c5-1385-4d19-a5e1-544cd40d76d1",
   "metadata": {},
   "outputs": [
    {
     "name": "stdout",
     "output_type": "stream",
     "text": [
      "<class 'pandas.core.frame.DataFrame'>\n",
      "RangeIndex: 99499 entries, 0 to 99498\n",
      "Data columns (total 8 columns):\n",
      " #   Column         Non-Null Count  Dtype  \n",
      "---  ------         --------------  -----  \n",
      " 0   property_type  99499 non-null  object \n",
      " 1   price          99499 non-null  int64  \n",
      " 2   location       99499 non-null  object \n",
      " 3   city           99499 non-null  object \n",
      " 4   baths          99499 non-null  int64  \n",
      " 5   purpose        99499 non-null  object \n",
      " 6   bedrooms       99499 non-null  int64  \n",
      " 7   Area_in_Marla  99499 non-null  float64\n",
      "dtypes: float64(1), int64(3), object(4)\n",
      "memory usage: 6.1+ MB\n"
     ]
    }
   ],
   "source": [
    "df.info()"
   ]
  },
  {
   "cell_type": "code",
   "execution_count": 109,
   "id": "c720ca7f-facb-4f0b-b795-c10d27dd00bf",
   "metadata": {},
   "outputs": [
    {
     "data": {
      "text/plain": [
       "795992"
      ]
     },
     "execution_count": 109,
     "metadata": {},
     "output_type": "execute_result"
    }
   ],
   "source": [
    "df.size"
   ]
  },
  {
   "cell_type": "code",
   "execution_count": 110,
   "id": "0ca32e85-e69a-4a6f-b6cb-96a1177e5f29",
   "metadata": {},
   "outputs": [
    {
     "data": {
      "text/plain": [
       "(99499, 8)"
      ]
     },
     "execution_count": 110,
     "metadata": {},
     "output_type": "execute_result"
    }
   ],
   "source": [
    "df.shape"
   ]
  },
  {
   "cell_type": "code",
   "execution_count": 111,
   "id": "5246a6b2-a2a3-4e2f-8801-70c2343dd051",
   "metadata": {},
   "outputs": [
    {
     "data": {
      "text/plain": [
       "property_type    0\n",
       "price            0\n",
       "location         0\n",
       "city             0\n",
       "baths            0\n",
       "purpose          0\n",
       "bedrooms         0\n",
       "Area_in_Marla    0\n",
       "dtype: int64"
      ]
     },
     "execution_count": 111,
     "metadata": {},
     "output_type": "execute_result"
    }
   ],
   "source": [
    "df.isnull().sum()"
   ]
  },
  {
   "cell_type": "code",
   "execution_count": 112,
   "id": "d4adbdae-fa4d-41f9-99c8-0fafce72b3f5",
   "metadata": {},
   "outputs": [
    {
     "data": {
      "text/plain": [
       "37858"
      ]
     },
     "execution_count": 112,
     "metadata": {},
     "output_type": "execute_result"
    }
   ],
   "source": [
    "df.duplicated().sum()"
   ]
  },
  {
   "cell_type": "code",
   "execution_count": 113,
   "id": "488538f6-00be-4164-99d8-68e2158d896d",
   "metadata": {},
   "outputs": [
    {
     "data": {
      "text/html": [
       "<div>\n",
       "<style scoped>\n",
       "    .dataframe tbody tr th:only-of-type {\n",
       "        vertical-align: middle;\n",
       "    }\n",
       "\n",
       "    .dataframe tbody tr th {\n",
       "        vertical-align: top;\n",
       "    }\n",
       "\n",
       "    .dataframe thead th {\n",
       "        text-align: right;\n",
       "    }\n",
       "</style>\n",
       "<table border=\"1\" class=\"dataframe\">\n",
       "  <thead>\n",
       "    <tr style=\"text-align: right;\">\n",
       "      <th></th>\n",
       "      <th>price</th>\n",
       "      <th>baths</th>\n",
       "      <th>bedrooms</th>\n",
       "      <th>Area_in_Marla</th>\n",
       "    </tr>\n",
       "  </thead>\n",
       "  <tbody>\n",
       "    <tr>\n",
       "      <th>count</th>\n",
       "      <td>9.949900e+04</td>\n",
       "      <td>99499.000000</td>\n",
       "      <td>99499.000000</td>\n",
       "      <td>99499.000000</td>\n",
       "    </tr>\n",
       "    <tr>\n",
       "      <th>mean</th>\n",
       "      <td>1.037592e+07</td>\n",
       "      <td>3.530106</td>\n",
       "      <td>3.350737</td>\n",
       "      <td>8.757479</td>\n",
       "    </tr>\n",
       "    <tr>\n",
       "      <th>std</th>\n",
       "      <td>1.066000e+07</td>\n",
       "      <td>1.474217</td>\n",
       "      <td>1.255913</td>\n",
       "      <td>7.466471</td>\n",
       "    </tr>\n",
       "    <tr>\n",
       "      <th>min</th>\n",
       "      <td>1.550000e+04</td>\n",
       "      <td>1.000000</td>\n",
       "      <td>0.000000</td>\n",
       "      <td>0.000000</td>\n",
       "    </tr>\n",
       "    <tr>\n",
       "      <th>25%</th>\n",
       "      <td>1.500000e+05</td>\n",
       "      <td>2.000000</td>\n",
       "      <td>2.000000</td>\n",
       "      <td>4.800000</td>\n",
       "    </tr>\n",
       "    <tr>\n",
       "      <th>50%</th>\n",
       "      <td>7.500000e+06</td>\n",
       "      <td>3.000000</td>\n",
       "      <td>3.000000</td>\n",
       "      <td>6.700000</td>\n",
       "    </tr>\n",
       "    <tr>\n",
       "      <th>75%</th>\n",
       "      <td>1.550000e+07</td>\n",
       "      <td>5.000000</td>\n",
       "      <td>4.000000</td>\n",
       "      <td>10.000000</td>\n",
       "    </tr>\n",
       "    <tr>\n",
       "      <th>max</th>\n",
       "      <td>4.490000e+07</td>\n",
       "      <td>7.000000</td>\n",
       "      <td>6.000000</td>\n",
       "      <td>194.000000</td>\n",
       "    </tr>\n",
       "  </tbody>\n",
       "</table>\n",
       "</div>"
      ],
      "text/plain": [
       "              price         baths      bedrooms  Area_in_Marla\n",
       "count  9.949900e+04  99499.000000  99499.000000   99499.000000\n",
       "mean   1.037592e+07      3.530106      3.350737       8.757479\n",
       "std    1.066000e+07      1.474217      1.255913       7.466471\n",
       "min    1.550000e+04      1.000000      0.000000       0.000000\n",
       "25%    1.500000e+05      2.000000      2.000000       4.800000\n",
       "50%    7.500000e+06      3.000000      3.000000       6.700000\n",
       "75%    1.550000e+07      5.000000      4.000000      10.000000\n",
       "max    4.490000e+07      7.000000      6.000000     194.000000"
      ]
     },
     "execution_count": 113,
     "metadata": {},
     "output_type": "execute_result"
    }
   ],
   "source": [
    "df.describe()"
   ]
  },
  {
   "cell_type": "code",
   "execution_count": 114,
   "id": "02168128-9536-4be3-8c3f-ca362c42c967",
   "metadata": {},
   "outputs": [
    {
     "data": {
      "image/png": "[encoded data removed]",
      "text/plain": [
       "<Figure size 640x480 with 1 Axes>"
      ]
     },
     "metadata": {},
     "output_type": "display_data"
    }
   ],
   "source": [
    "sns.distplot(df['price'],hist = False)\n",
    "plt.show()"
   ]
  },
  {
   "cell_type": "code",
   "execution_count": 115,
   "id": "48db3392-1dc1-453d-ba2b-e677522fc0a3",
   "metadata": {},
   "outputs": [
    {
     "data": {
      "image/png": "[encoded data removed]",
      "text/plain": [
       "<Figure size 640x480 with 1 Axes>"
      ]
     },
     "metadata": {},
     "output_type": "display_data"
    }
   ],
   "source": [
    "sns.boxplot(df['price'])\n",
    "plt.show()"
   ]
  },
  {
   "cell_type": "code",
   "execution_count": 116,
   "id": "17ff9535-ebab-4516-988e-a32fea3efc83",
   "metadata": {},
   "outputs": [
    {
     "data": {
      "text/html": [
       "<div>\n",
       "<style scoped>\n",
       "    .dataframe tbody tr th:only-of-type {\n",
       "        vertical-align: middle;\n",
       "    }\n",
       "\n",
       "    .dataframe tbody tr th {\n",
       "        vertical-align: top;\n",
       "    }\n",
       "\n",
       "    .dataframe thead th {\n",
       "        text-align: right;\n",
       "    }\n",
       "</style>\n",
       "<table border=\"1\" class=\"dataframe\">\n",
       "  <thead>\n",
       "    <tr style=\"text-align: right;\">\n",
       "      <th></th>\n",
       "      <th>property_type</th>\n",
       "      <th>price</th>\n",
       "      <th>location</th>\n",
       "      <th>city</th>\n",
       "      <th>baths</th>\n",
       "      <th>purpose</th>\n",
       "      <th>bedrooms</th>\n",
       "      <th>Area_in_Marla</th>\n",
       "    </tr>\n",
       "  </thead>\n",
       "  <tbody>\n",
       "    <tr>\n",
       "      <th>77095</th>\n",
       "      <td>Flat</td>\n",
       "      <td>15500</td>\n",
       "      <td>Bahria Town Rawalpindi</td>\n",
       "      <td>Rawalpindi</td>\n",
       "      <td>2</td>\n",
       "      <td>For Rent</td>\n",
       "      <td>2</td>\n",
       "      <td>5.0</td>\n",
       "    </tr>\n",
       "    <tr>\n",
       "      <th>64643</th>\n",
       "      <td>Lower Portion</td>\n",
       "      <td>15500</td>\n",
       "      <td>Airport Housing Society</td>\n",
       "      <td>Rawalpindi</td>\n",
       "      <td>2</td>\n",
       "      <td>For Rent</td>\n",
       "      <td>2</td>\n",
       "      <td>5.0</td>\n",
       "    </tr>\n",
       "    <tr>\n",
       "      <th>99086</th>\n",
       "      <td>Flat</td>\n",
       "      <td>15500</td>\n",
       "      <td>Soan Garden</td>\n",
       "      <td>Islamabad</td>\n",
       "      <td>2</td>\n",
       "      <td>For Rent</td>\n",
       "      <td>2</td>\n",
       "      <td>4.0</td>\n",
       "    </tr>\n",
       "    <tr>\n",
       "      <th>64646</th>\n",
       "      <td>Upper Portion</td>\n",
       "      <td>15500</td>\n",
       "      <td>Airport Housing Society</td>\n",
       "      <td>Rawalpindi</td>\n",
       "      <td>2</td>\n",
       "      <td>For Rent</td>\n",
       "      <td>2</td>\n",
       "      <td>5.0</td>\n",
       "    </tr>\n",
       "    <tr>\n",
       "      <th>39559</th>\n",
       "      <td>Flat</td>\n",
       "      <td>15500</td>\n",
       "      <td>Mehmoodabad</td>\n",
       "      <td>Karachi</td>\n",
       "      <td>2</td>\n",
       "      <td>For Rent</td>\n",
       "      <td>2</td>\n",
       "      <td>2.6</td>\n",
       "    </tr>\n",
       "    <tr>\n",
       "      <th>...</th>\n",
       "      <td>...</td>\n",
       "      <td>...</td>\n",
       "      <td>...</td>\n",
       "      <td>...</td>\n",
       "      <td>...</td>\n",
       "      <td>...</td>\n",
       "      <td>...</td>\n",
       "      <td>...</td>\n",
       "    </tr>\n",
       "    <tr>\n",
       "      <th>79838</th>\n",
       "      <td>House</td>\n",
       "      <td>44900000</td>\n",
       "      <td>DHA Defence</td>\n",
       "      <td>Lahore</td>\n",
       "      <td>6</td>\n",
       "      <td>For Sale</td>\n",
       "      <td>5</td>\n",
       "      <td>20.0</td>\n",
       "    </tr>\n",
       "    <tr>\n",
       "      <th>72408</th>\n",
       "      <td>House</td>\n",
       "      <td>44900000</td>\n",
       "      <td>DHA Defence</td>\n",
       "      <td>Lahore</td>\n",
       "      <td>6</td>\n",
       "      <td>For Sale</td>\n",
       "      <td>5</td>\n",
       "      <td>20.0</td>\n",
       "    </tr>\n",
       "    <tr>\n",
       "      <th>77477</th>\n",
       "      <td>House</td>\n",
       "      <td>44900000</td>\n",
       "      <td>DHA Defence</td>\n",
       "      <td>Lahore</td>\n",
       "      <td>6</td>\n",
       "      <td>For Sale</td>\n",
       "      <td>5</td>\n",
       "      <td>20.0</td>\n",
       "    </tr>\n",
       "    <tr>\n",
       "      <th>43322</th>\n",
       "      <td>House</td>\n",
       "      <td>44900000</td>\n",
       "      <td>Johar Town</td>\n",
       "      <td>Lahore</td>\n",
       "      <td>6</td>\n",
       "      <td>For Sale</td>\n",
       "      <td>5</td>\n",
       "      <td>24.0</td>\n",
       "    </tr>\n",
       "    <tr>\n",
       "      <th>91824</th>\n",
       "      <td>House</td>\n",
       "      <td>44900000</td>\n",
       "      <td>DHA Defence</td>\n",
       "      <td>Lahore</td>\n",
       "      <td>6</td>\n",
       "      <td>For Sale</td>\n",
       "      <td>5</td>\n",
       "      <td>20.0</td>\n",
       "    </tr>\n",
       "  </tbody>\n",
       "</table>\n",
       "<p>99499 rows × 8 columns</p>\n",
       "</div>"
      ],
      "text/plain": [
       "       property_type     price                 location        city  baths  \\\n",
       "77095           Flat     15500   Bahria Town Rawalpindi  Rawalpindi      2   \n",
       "64643  Lower Portion     15500  Airport Housing Society  Rawalpindi      2   \n",
       "99086           Flat     15500              Soan Garden   Islamabad      2   \n",
       "64646  Upper Portion     15500  Airport Housing Society  Rawalpindi      2   \n",
       "39559           Flat     15500              Mehmoodabad     Karachi      2   \n",
       "...              ...       ...                      ...         ...    ...   \n",
       "79838          House  44900000              DHA Defence      Lahore      6   \n",
       "72408          House  44900000              DHA Defence      Lahore      6   \n",
       "77477          House  44900000              DHA Defence      Lahore      6   \n",
       "43322          House  44900000               Johar Town      Lahore      6   \n",
       "91824          House  44900000              DHA Defence      Lahore      6   \n",
       "\n",
       "        purpose  bedrooms  Area_in_Marla  \n",
       "77095  For Rent         2            5.0  \n",
       "64643  For Rent         2            5.0  \n",
       "99086  For Rent         2            4.0  \n",
       "64646  For Rent         2            5.0  \n",
       "39559  For Rent         2            2.6  \n",
       "...         ...       ...            ...  \n",
       "79838  For Sale         5           20.0  \n",
       "72408  For Sale         5           20.0  \n",
       "77477  For Sale         5           20.0  \n",
       "43322  For Sale         5           24.0  \n",
       "91824  For Sale         5           20.0  \n",
       "\n",
       "[99499 rows x 8 columns]"
      ]
     },
     "execution_count": 116,
     "metadata": {},
     "output_type": "execute_result"
    }
   ],
   "source": [
    "df.sort_values(by = ['price'],inplace = True)\n",
    "df"
   ]
  },
  {
   "cell_type": "code",
   "execution_count": 117,
   "id": "24c790e7-4b59-4a99-ab45-abe62e910329",
   "metadata": {},
   "outputs": [
    {
     "name": "stdout",
     "output_type": "stream",
     "text": [
      "38525000.0\n",
      "-22875000.0\n"
     ]
    }
   ],
   "source": [
    "q1 = np.quantile(df['price'],.25)\n",
    "q3 = np.quantile(df['price'],.75)\n",
    "IQR = q3 - q1\n",
    "upper_fence = q3 + (1.5 * IQR)\n",
    "lower_fence = q1 - (1.5 * IQR)\n",
    "print(upper_fence)\n",
    "print(lower_fence)"
   ]
  },
  {
   "cell_type": "code",
   "execution_count": 118,
   "id": "4a8be958-f4bf-48ec-8a35-54d9520faaa5",
   "metadata": {},
   "outputs": [
    {
     "data": {
      "text/html": [
       "<div>\n",
       "<style scoped>\n",
       "    .dataframe tbody tr th:only-of-type {\n",
       "        vertical-align: middle;\n",
       "    }\n",
       "\n",
       "    .dataframe tbody tr th {\n",
       "        vertical-align: top;\n",
       "    }\n",
       "\n",
       "    .dataframe thead th {\n",
       "        text-align: right;\n",
       "    }\n",
       "</style>\n",
       "<table border=\"1\" class=\"dataframe\">\n",
       "  <thead>\n",
       "    <tr style=\"text-align: right;\">\n",
       "      <th></th>\n",
       "      <th>property_type</th>\n",
       "      <th>price</th>\n",
       "      <th>location</th>\n",
       "      <th>city</th>\n",
       "      <th>baths</th>\n",
       "      <th>purpose</th>\n",
       "      <th>bedrooms</th>\n",
       "      <th>Area_in_Marla</th>\n",
       "    </tr>\n",
       "  </thead>\n",
       "  <tbody>\n",
       "    <tr>\n",
       "      <th>5380</th>\n",
       "      <td>House</td>\n",
       "      <td>38600000</td>\n",
       "      <td>Valencia Housing Society</td>\n",
       "      <td>Lahore</td>\n",
       "      <td>7</td>\n",
       "      <td>For Sale</td>\n",
       "      <td>5</td>\n",
       "      <td>20.0</td>\n",
       "    </tr>\n",
       "    <tr>\n",
       "      <th>5903</th>\n",
       "      <td>House</td>\n",
       "      <td>38700000</td>\n",
       "      <td>DHA Defence</td>\n",
       "      <td>Lahore</td>\n",
       "      <td>6</td>\n",
       "      <td>For Sale</td>\n",
       "      <td>5</td>\n",
       "      <td>20.0</td>\n",
       "    </tr>\n",
       "    <tr>\n",
       "      <th>62138</th>\n",
       "      <td>House</td>\n",
       "      <td>38700000</td>\n",
       "      <td>DHA Defence</td>\n",
       "      <td>Lahore</td>\n",
       "      <td>5</td>\n",
       "      <td>For Sale</td>\n",
       "      <td>4</td>\n",
       "      <td>10.0</td>\n",
       "    </tr>\n",
       "    <tr>\n",
       "      <th>136</th>\n",
       "      <td>House</td>\n",
       "      <td>38800000</td>\n",
       "      <td>Emaar Canyon Views</td>\n",
       "      <td>Islamabad</td>\n",
       "      <td>4</td>\n",
       "      <td>For Sale</td>\n",
       "      <td>5</td>\n",
       "      <td>30.0</td>\n",
       "    </tr>\n",
       "    <tr>\n",
       "      <th>73088</th>\n",
       "      <td>House</td>\n",
       "      <td>38800000</td>\n",
       "      <td>Gulberg</td>\n",
       "      <td>Lahore</td>\n",
       "      <td>4</td>\n",
       "      <td>For Sale</td>\n",
       "      <td>4</td>\n",
       "      <td>14.0</td>\n",
       "    </tr>\n",
       "    <tr>\n",
       "      <th>...</th>\n",
       "      <td>...</td>\n",
       "      <td>...</td>\n",
       "      <td>...</td>\n",
       "      <td>...</td>\n",
       "      <td>...</td>\n",
       "      <td>...</td>\n",
       "      <td>...</td>\n",
       "      <td>...</td>\n",
       "    </tr>\n",
       "    <tr>\n",
       "      <th>79838</th>\n",
       "      <td>House</td>\n",
       "      <td>44900000</td>\n",
       "      <td>DHA Defence</td>\n",
       "      <td>Lahore</td>\n",
       "      <td>6</td>\n",
       "      <td>For Sale</td>\n",
       "      <td>5</td>\n",
       "      <td>20.0</td>\n",
       "    </tr>\n",
       "    <tr>\n",
       "      <th>72408</th>\n",
       "      <td>House</td>\n",
       "      <td>44900000</td>\n",
       "      <td>DHA Defence</td>\n",
       "      <td>Lahore</td>\n",
       "      <td>6</td>\n",
       "      <td>For Sale</td>\n",
       "      <td>5</td>\n",
       "      <td>20.0</td>\n",
       "    </tr>\n",
       "    <tr>\n",
       "      <th>77477</th>\n",
       "      <td>House</td>\n",
       "      <td>44900000</td>\n",
       "      <td>DHA Defence</td>\n",
       "      <td>Lahore</td>\n",
       "      <td>6</td>\n",
       "      <td>For Sale</td>\n",
       "      <td>5</td>\n",
       "      <td>20.0</td>\n",
       "    </tr>\n",
       "    <tr>\n",
       "      <th>43322</th>\n",
       "      <td>House</td>\n",
       "      <td>44900000</td>\n",
       "      <td>Johar Town</td>\n",
       "      <td>Lahore</td>\n",
       "      <td>6</td>\n",
       "      <td>For Sale</td>\n",
       "      <td>5</td>\n",
       "      <td>24.0</td>\n",
       "    </tr>\n",
       "    <tr>\n",
       "      <th>91824</th>\n",
       "      <td>House</td>\n",
       "      <td>44900000</td>\n",
       "      <td>DHA Defence</td>\n",
       "      <td>Lahore</td>\n",
       "      <td>6</td>\n",
       "      <td>For Sale</td>\n",
       "      <td>5</td>\n",
       "      <td>20.0</td>\n",
       "    </tr>\n",
       "  </tbody>\n",
       "</table>\n",
       "<p>2594 rows × 8 columns</p>\n",
       "</div>"
      ],
      "text/plain": [
       "      property_type     price                  location       city  baths  \\\n",
       "5380          House  38600000  Valencia Housing Society     Lahore      7   \n",
       "5903          House  38700000               DHA Defence     Lahore      6   \n",
       "62138         House  38700000               DHA Defence     Lahore      5   \n",
       "136           House  38800000        Emaar Canyon Views  Islamabad      4   \n",
       "73088         House  38800000                   Gulberg     Lahore      4   \n",
       "...             ...       ...                       ...        ...    ...   \n",
       "79838         House  44900000               DHA Defence     Lahore      6   \n",
       "72408         House  44900000               DHA Defence     Lahore      6   \n",
       "77477         House  44900000               DHA Defence     Lahore      6   \n",
       "43322         House  44900000                Johar Town     Lahore      6   \n",
       "91824         House  44900000               DHA Defence     Lahore      6   \n",
       "\n",
       "        purpose  bedrooms  Area_in_Marla  \n",
       "5380   For Sale         5           20.0  \n",
       "5903   For Sale         5           20.0  \n",
       "62138  For Sale         4           10.0  \n",
       "136    For Sale         5           30.0  \n",
       "73088  For Sale         4           14.0  \n",
       "...         ...       ...            ...  \n",
       "79838  For Sale         5           20.0  \n",
       "72408  For Sale         5           20.0  \n",
       "77477  For Sale         5           20.0  \n",
       "43322  For Sale         5           24.0  \n",
       "91824  For Sale         5           20.0  \n",
       "\n",
       "[2594 rows x 8 columns]"
      ]
     },
     "execution_count": 118,
     "metadata": {},
     "output_type": "execute_result"
    }
   ],
   "source": [
    "df[df['price'] > upper_fence]"
   ]
  },
  {
   "cell_type": "code",
   "execution_count": 119,
   "id": "e2799087-6a06-40f9-b56a-494c07ee52d8",
   "metadata": {},
   "outputs": [
    {
     "data": {
      "text/plain": [
       "property_type    2594\n",
       "price            2594\n",
       "location         2594\n",
       "city             2594\n",
       "baths            2594\n",
       "purpose          2594\n",
       "bedrooms         2594\n",
       "Area_in_Marla    2594\n",
       "dtype: int64"
      ]
     },
     "execution_count": 119,
     "metadata": {},
     "output_type": "execute_result"
    }
   ],
   "source": [
    "df[df['price'] > upper_fence].count()"
   ]
  },
  {
   "cell_type": "code",
   "execution_count": 120,
   "id": "c4fc61c0-6ae0-457d-aa38-b473c9a1cb11",
   "metadata": {},
   "outputs": [],
   "source": [
    "df_new = df[df['price'] < upper_fence]"
   ]
  },
  {
   "cell_type": "code",
   "execution_count": 121,
   "id": "2417af46-b8ad-4acd-b461-8151d99bd976",
   "metadata": {},
   "outputs": [
    {
     "data": {
      "image/png": "[encoded data removed]",
      "text/plain": [
       "<Figure size 1600x800 with 4 Axes>"
      ]
     },
     "metadata": {},
     "output_type": "display_data"
    }
   ],
   "source": [
    "plt.figure(figsize = [16,8])\n",
    "plt.subplot(2,2,1)\n",
    "sns.distplot(df['price'])\n",
    "plt.subplot(2,2,2)\n",
    "sns.boxplot(df['price'])\n",
    "plt.subplot(2,2,3)\n",
    "sns.distplot(df_new['price'])\n",
    "plt.subplot(2,2,4)\n",
    "sns.boxplot(df_new['price'])\n",
    "plt.show()"
   ]
  },
  {
   "cell_type": "code",
   "execution_count": 122,
   "id": "562625f0-55d7-4b58-9407-f8130418b0fd",
   "metadata": {},
   "outputs": [],
   "source": [
    "median = df['price'].median()\n",
    "df['price'] = np.where(df['price'] > upper_fence,median,df['price'])"
   ]
  },
  {
   "cell_type": "code",
   "execution_count": 123,
   "id": "4c467f6b-7193-456c-afec-0da1cc8ac96f",
   "metadata": {},
   "outputs": [
    {
     "data": {
      "text/plain": [
       "count    9.949900e+04\n",
       "mean     9.493406e+06\n",
       "std      9.380507e+06\n",
       "min      1.550000e+04\n",
       "25%      1.500000e+05\n",
       "50%      7.500000e+06\n",
       "75%      1.480000e+07\n",
       "max      3.850000e+07\n",
       "Name: price, dtype: float64"
      ]
     },
     "execution_count": 123,
     "metadata": {},
     "output_type": "execute_result"
    }
   ],
   "source": [
    "df['price'].describe()"
   ]
  },
  {
   "cell_type": "code",
   "execution_count": 124,
   "id": "4d78a325-791e-4c48-a8cd-42e6065f79ef",
   "metadata": {},
   "outputs": [
    {
     "data": {
      "image/png": "[encoded data removed]",
      "text/plain": [
       "<Figure size 1600x800 with 2 Axes>"
      ]
     },
     "metadata": {},
     "output_type": "display_data"
    }
   ],
   "source": [
    "plt.figure(figsize = [16,8])\n",
    "plt.subplot(2,2,1)\n",
    "sns.distplot(df['price'])\n",
    "plt.subplot(2,2,2)\n",
    "sns.boxplot(df['price'])\n",
    "plt.show()"
   ]
  },
  {
   "cell_type": "code",
   "execution_count": 125,
   "id": "cb403b96-4523-44d4-ba2d-ae2032cd05f5",
   "metadata": {},
   "outputs": [
    {
     "data": {
      "text/plain": [
       "property_type\n",
       "House            58169\n",
       "Flat             26658\n",
       "Upper Portion     8539\n",
       "Lower Portion     5549\n",
       "Penthouse          255\n",
       "Room               241\n",
       "Farm House          88\n",
       "Name: count, dtype: int64"
      ]
     },
     "execution_count": 125,
     "metadata": {},
     "output_type": "execute_result"
    }
   ],
   "source": [
    "df['property_type'].value_counts()"
   ]
  },
  {
   "cell_type": "code",
   "execution_count": 126,
   "id": "399ed2ac-fff7-453a-b879-cbc45ed0205e",
   "metadata": {},
   "outputs": [
    {
     "data": {
      "image/png": "[encoded data removed]",
      "text/plain": [
       "<Figure size 640x480 with 1 Axes>"
      ]
     },
     "metadata": {},
     "output_type": "display_data"
    }
   ],
   "source": [
    "df['property_type'].value_counts().plot(kind = 'bar')\n",
    "plt.show()"
   ]
  },
  {
   "cell_type": "code",
   "execution_count": 127,
   "id": "707a7a9f-9efa-473f-b789-075e5dce1922",
   "metadata": {},
   "outputs": [
    {
     "data": {
      "text/plain": [
       "location\n",
       "DHA Defence               11787\n",
       "Bahria Town Karachi        6697\n",
       "Bahria Town Rawalpindi     5257\n",
       "Bahria Town                4437\n",
       "Gulistan-e-Jauhar          3532\n",
       "Gulshan-e-Iqbal Town       3061\n",
       "E-11                       2060\n",
       "North Karachi              1878\n",
       "North Nazimabad            1729\n",
       "Scheme 33                  1592\n",
       "Name: count, dtype: int64"
      ]
     },
     "execution_count": 127,
     "metadata": {},
     "output_type": "execute_result"
    }
   ],
   "source": [
    "df['location'].value_counts()[:10]"
   ]
  },
  {
   "cell_type": "code",
   "execution_count": 128,
   "id": "fef16c61-e8aa-4656-862f-6eb02b34d3a2",
   "metadata": {},
   "outputs": [
    {
     "data": {
      "image/png": "[encoded data removed]",
      "text/plain": [
       "<Figure size 640x480 with 1 Axes>"
      ]
     },
     "metadata": {},
     "output_type": "display_data"
    }
   ],
   "source": [
    "df['location'].value_counts()[:10].plot(kind = 'barh')\n",
    "plt.show()"
   ]
  },
  {
   "cell_type": "code",
   "execution_count": 129,
   "id": "74103da0-ff7c-4882-8ba3-7c690820f266",
   "metadata": {},
   "outputs": [
    {
     "name": "stdout",
     "output_type": "stream",
     "text": [
      "<class 'pandas.core.frame.DataFrame'>\n",
      "Index: 99499 entries, 77095 to 91824\n",
      "Data columns (total 8 columns):\n",
      " #   Column         Non-Null Count  Dtype  \n",
      "---  ------         --------------  -----  \n",
      " 0   property_type  99499 non-null  object \n",
      " 1   price          99499 non-null  float64\n",
      " 2   location       99499 non-null  object \n",
      " 3   city           99499 non-null  object \n",
      " 4   baths          99499 non-null  int64  \n",
      " 5   purpose        99499 non-null  object \n",
      " 6   bedrooms       99499 non-null  int64  \n",
      " 7   Area_in_Marla  99499 non-null  float64\n",
      "dtypes: float64(2), int64(2), object(4)\n",
      "memory usage: 6.8+ MB\n"
     ]
    }
   ],
   "source": [
    "df.info()"
   ]
  },
  {
   "cell_type": "code",
   "execution_count": 130,
   "id": "2a4543cb-d360-4762-8f20-90427c4672f1",
   "metadata": {},
   "outputs": [
    {
     "data": {
      "text/plain": [
       "city\n",
       "Karachi       37066\n",
       "Lahore        26221\n",
       "Islamabad     22243\n",
       "Rawalpindi    11738\n",
       "Faisalabad     2231\n",
       "Name: count, dtype: int64"
      ]
     },
     "execution_count": 130,
     "metadata": {},
     "output_type": "execute_result"
    }
   ],
   "source": [
    "df['city'].value_counts()"
   ]
  },
  {
   "cell_type": "code",
   "execution_count": 131,
   "id": "a898aa9e-2b22-4b0d-9025-9918827a8ba5",
   "metadata": {},
   "outputs": [
    {
     "data": {
      "image/png": "[encoded data removed]",
      "text/plain": [
       "<Figure size 640x480 with 1 Axes>"
      ]
     },
     "metadata": {},
     "output_type": "display_data"
    }
   ],
   "source": [
    "df['city'].value_counts().plot(kind = 'pie',autopct = '%1.1f%%')\n",
    "plt.ylabel('')\n",
    "plt.show()"
   ]
  },
  {
   "cell_type": "code",
   "execution_count": 132,
   "id": "5ec32f89-1b7e-4e12-8fe2-8c5d80c32e4a",
   "metadata": {},
   "outputs": [
    {
     "data": {
      "text/plain": [
       "purpose\n",
       "For Sale    70947\n",
       "For Rent    28552\n",
       "Name: count, dtype: int64"
      ]
     },
     "execution_count": 132,
     "metadata": {},
     "output_type": "execute_result"
    }
   ],
   "source": [
    "df['purpose'].value_counts()"
   ]
  },
  {
   "cell_type": "code",
   "execution_count": 133,
   "id": "00273d62-2cc4-49e7-9787-ddff60a0ec8c",
   "metadata": {},
   "outputs": [
    {
     "data": {
      "image/png": "[encoded data removed]",
      "text/plain": [
       "<Figure size 640x480 with 1 Axes>"
      ]
     },
     "metadata": {},
     "output_type": "display_data"
    }
   ],
   "source": [
    "df['purpose'].value_counts().plot(kind = 'bar')\n",
    "plt.xticks(rotation = 0)\n",
    "plt.show()"
   ]
  },
  {
   "cell_type": "code",
   "execution_count": 134,
   "id": "489c33e7-76cf-4e60-b448-5dbaa210ec6c",
   "metadata": {},
   "outputs": [
    {
     "data": {
      "text/plain": [
       "Area_in_Marla\n",
       "5.0      12268\n",
       "10.0     12267\n",
       "20.0      9119\n",
       "8.0       7125\n",
       "4.0       4412\n",
       "         ...  \n",
       "96.0         1\n",
       "172.0        1\n",
       "122.0        1\n",
       "142.0        1\n",
       "146.0        1\n",
       "Name: count, Length: 240, dtype: int64"
      ]
     },
     "execution_count": 134,
     "metadata": {},
     "output_type": "execute_result"
    }
   ],
   "source": [
    "df['Area_in_Marla'].value_counts()"
   ]
  },
  {
   "cell_type": "code",
   "execution_count": 135,
   "id": "4c1e8a21-3ee7-4bc0-b6f7-db791351cd83",
   "metadata": {},
   "outputs": [
    {
     "data": {
      "text/plain": [
       "Area_in_Marla\n",
       "5.0     12268\n",
       "10.0    12267\n",
       "20.0     9119\n",
       "Name: count, dtype: int64"
      ]
     },
     "execution_count": 135,
     "metadata": {},
     "output_type": "execute_result"
    }
   ],
   "source": [
    "df['Area_in_Marla'].value_counts()[:20]"
   ]
  },
  {
   "cell_type": "code",
   "execution_count": 136,
   "id": "455dc539-e904-48e9-9804-57bb0e286ac7",
   "metadata": {},
   "outputs": [
    {
     "data": {
      "image/png": "[encoded data removed]",
      "text/plain": [
       "<Figure size 640x480 with 1 Axes>"
      ]
     },
     "metadata": {},
     "output_type": "display_data"
    }
   ],
   "source": [
    "df['Area_in_Marla'].value_counts()[:20].plot(kind = 'bar', color = 'pink')\n",
    "plt.show()"
   ]
  },
  {
   "cell_type": "code",
   "execution_count": 137,
   "id": "ebe6d5c6-7355-4110-a6db-c00139906f89",
   "metadata": {},
   "outputs": [
    {
     "data": {
      "text/plain": [
       "bedrooms\n",
       "3    34888\n",
       "2    23245\n",
       "4    17458\n",
       "5    14355\n",
       "6     6275\n",
       "1     2984\n",
       "0      294\n",
       "Name: count, dtype: int64"
      ]
     },
     "execution_count": 137,
     "metadata": {},
     "output_type": "execute_result"
    }
   ],
   "source": [
    "df['bedrooms'].value_counts()"
   ]
  },
  {
   "cell_type": "code",
   "execution_count": 138,
   "id": "0d6a053a-fb56-49f0-968f-880232bd4a0c",
   "metadata": {},
   "outputs": [
    {
     "data": {
      "image/png": "[encoded data removed]",
      "text/plain": [
       "<Figure size 640x480 with 1 Axes>"
      ]
     },
     "metadata": {},
     "output_type": "display_data"
    }
   ],
   "source": [
    "df['bedrooms'].value_counts().plot(kind = 'pie',autopct = '%1.1f%%')\n",
    "plt.ylabel(' ')\n",
    "plt.show()"
   ]
  },
  {
   "cell_type": "code",
   "execution_count": 139,
   "id": "af449fd7-faa4-4d75-b46c-ca36d33ec3cd",
   "metadata": {},
   "outputs": [
    {
     "data": {
      "text/plain": [
       "baths\n",
       "3    30256\n",
       "2    22660\n",
       "4    17120\n",
       "5    11766\n",
       "6    10745\n",
       "1     4215\n",
       "7     2737\n",
       "Name: count, dtype: int64"
      ]
     },
     "execution_count": 139,
     "metadata": {},
     "output_type": "execute_result"
    }
   ],
   "source": [
    "df['baths'].value_counts()"
   ]
  },
  {
   "cell_type": "code",
   "execution_count": 140,
   "id": "b9b08110-6e4d-4b56-af57-5588547f1596",
   "metadata": {},
   "outputs": [
    {
     "data": {
      "image/png": "[encoded data removed]",
      "text/plain": [
       "<Figure size 640x480 with 1 Axes>"
      ]
     },
     "metadata": {},
     "output_type": "display_data"
    }
   ],
   "source": [
    "df['baths'].value_counts().plot(kind = 'bar')\n",
    "plt.xticks(rotation =0)\n",
    "plt.show()"
   ]
  },
  {
   "cell_type": "code",
   "execution_count": 141,
   "id": "372cdc39-bc3d-4c0c-abae-502b17bc5791",
   "metadata": {},
   "outputs": [
    {
     "data": {
      "text/html": [
       "<div>\n",
       "<style scoped>\n",
       "    .dataframe tbody tr th:only-of-type {\n",
       "        vertical-align: middle;\n",
       "    }\n",
       "\n",
       "    .dataframe tbody tr th {\n",
       "        vertical-align: top;\n",
       "    }\n",
       "\n",
       "    .dataframe thead th {\n",
       "        text-align: right;\n",
       "    }\n",
       "</style>\n",
       "<table border=\"1\" class=\"dataframe\">\n",
       "  <thead>\n",
       "    <tr style=\"text-align: right;\">\n",
       "      <th></th>\n",
       "      <th>property_type</th>\n",
       "      <th>price</th>\n",
       "      <th>location</th>\n",
       "      <th>city</th>\n",
       "      <th>baths</th>\n",
       "      <th>purpose</th>\n",
       "      <th>bedrooms</th>\n",
       "      <th>Area_in_Marla</th>\n",
       "    </tr>\n",
       "  </thead>\n",
       "  <tbody>\n",
       "    <tr>\n",
       "      <th>77095</th>\n",
       "      <td>Flat</td>\n",
       "      <td>15500.0</td>\n",
       "      <td>Bahria Town Rawalpindi</td>\n",
       "      <td>Rawalpindi</td>\n",
       "      <td>2</td>\n",
       "      <td>For Rent</td>\n",
       "      <td>2</td>\n",
       "      <td>5.0</td>\n",
       "    </tr>\n",
       "    <tr>\n",
       "      <th>64643</th>\n",
       "      <td>Lower Portion</td>\n",
       "      <td>15500.0</td>\n",
       "      <td>Airport Housing Society</td>\n",
       "      <td>Rawalpindi</td>\n",
       "      <td>2</td>\n",
       "      <td>For Rent</td>\n",
       "      <td>2</td>\n",
       "      <td>5.0</td>\n",
       "    </tr>\n",
       "    <tr>\n",
       "      <th>99086</th>\n",
       "      <td>Flat</td>\n",
       "      <td>15500.0</td>\n",
       "      <td>Soan Garden</td>\n",
       "      <td>Islamabad</td>\n",
       "      <td>2</td>\n",
       "      <td>For Rent</td>\n",
       "      <td>2</td>\n",
       "      <td>4.0</td>\n",
       "    </tr>\n",
       "    <tr>\n",
       "      <th>64646</th>\n",
       "      <td>Upper Portion</td>\n",
       "      <td>15500.0</td>\n",
       "      <td>Airport Housing Society</td>\n",
       "      <td>Rawalpindi</td>\n",
       "      <td>2</td>\n",
       "      <td>For Rent</td>\n",
       "      <td>2</td>\n",
       "      <td>5.0</td>\n",
       "    </tr>\n",
       "    <tr>\n",
       "      <th>39559</th>\n",
       "      <td>Flat</td>\n",
       "      <td>15500.0</td>\n",
       "      <td>Mehmoodabad</td>\n",
       "      <td>Karachi</td>\n",
       "      <td>2</td>\n",
       "      <td>For Rent</td>\n",
       "      <td>2</td>\n",
       "      <td>2.6</td>\n",
       "    </tr>\n",
       "  </tbody>\n",
       "</table>\n",
       "</div>"
      ],
      "text/plain": [
       "       property_type    price                 location        city  baths  \\\n",
       "77095           Flat  15500.0   Bahria Town Rawalpindi  Rawalpindi      2   \n",
       "64643  Lower Portion  15500.0  Airport Housing Society  Rawalpindi      2   \n",
       "99086           Flat  15500.0              Soan Garden   Islamabad      2   \n",
       "64646  Upper Portion  15500.0  Airport Housing Society  Rawalpindi      2   \n",
       "39559           Flat  15500.0              Mehmoodabad     Karachi      2   \n",
       "\n",
       "        purpose  bedrooms  Area_in_Marla  \n",
       "77095  For Rent         2            5.0  \n",
       "64643  For Rent         2            5.0  \n",
       "99086  For Rent         2            4.0  \n",
       "64646  For Rent         2            5.0  \n",
       "39559  For Rent         2            2.6  "
      ]
     },
     "execution_count": 141,
     "metadata": {},
     "output_type": "execute_result"
    }
   ],
   "source": [
    "df.head()"
   ]
  },
  {
   "cell_type": "code",
   "execution_count": 142,
   "id": "0f203138-c49c-4639-88bc-97d30c79b370",
   "metadata": {},
   "outputs": [],
   "source": [
    "df_cat = df.select_dtypes('object')\n",
    "df_num = df.select_dtypes(include = ['int','float'])"
   ]
  },
  {
   "cell_type": "code",
   "execution_count": 143,
   "id": "a89fdf27-ac3c-499e-b838-c472e63e0660",
   "metadata": {},
   "outputs": [
    {
     "data": {
      "text/html": [
       "<div>\n",
       "<style scoped>\n",
       "    .dataframe tbody tr th:only-of-type {\n",
       "        vertical-align: middle;\n",
       "    }\n",
       "\n",
       "    .dataframe tbody tr th {\n",
       "        vertical-align: top;\n",
       "    }\n",
       "\n",
       "    .dataframe thead th {\n",
       "        text-align: right;\n",
       "    }\n",
       "</style>\n",
       "<table border=\"1\" class=\"dataframe\">\n",
       "  <thead>\n",
       "    <tr style=\"text-align: right;\">\n",
       "      <th></th>\n",
       "      <th>property_type</th>\n",
       "      <th>location</th>\n",
       "      <th>city</th>\n",
       "      <th>purpose</th>\n",
       "    </tr>\n",
       "  </thead>\n",
       "  <tbody>\n",
       "    <tr>\n",
       "      <th>77095</th>\n",
       "      <td>Flat</td>\n",
       "      <td>Bahria Town Rawalpindi</td>\n",
       "      <td>Rawalpindi</td>\n",
       "      <td>For Rent</td>\n",
       "    </tr>\n",
       "    <tr>\n",
       "      <th>64643</th>\n",
       "      <td>Lower Portion</td>\n",
       "      <td>Airport Housing Society</td>\n",
       "      <td>Rawalpindi</td>\n",
       "      <td>For Rent</td>\n",
       "    </tr>\n",
       "    <tr>\n",
       "      <th>99086</th>\n",
       "      <td>Flat</td>\n",
       "      <td>Soan Garden</td>\n",
       "      <td>Islamabad</td>\n",
       "      <td>For Rent</td>\n",
       "    </tr>\n",
       "    <tr>\n",
       "      <th>64646</th>\n",
       "      <td>Upper Portion</td>\n",
       "      <td>Airport Housing Society</td>\n",
       "      <td>Rawalpindi</td>\n",
       "      <td>For Rent</td>\n",
       "    </tr>\n",
       "    <tr>\n",
       "      <th>39559</th>\n",
       "      <td>Flat</td>\n",
       "      <td>Mehmoodabad</td>\n",
       "      <td>Karachi</td>\n",
       "      <td>For Rent</td>\n",
       "    </tr>\n",
       "  </tbody>\n",
       "</table>\n",
       "</div>"
      ],
      "text/plain": [
       "       property_type                 location        city   purpose\n",
       "77095           Flat   Bahria Town Rawalpindi  Rawalpindi  For Rent\n",
       "64643  Lower Portion  Airport Housing Society  Rawalpindi  For Rent\n",
       "99086           Flat              Soan Garden   Islamabad  For Rent\n",
       "64646  Upper Portion  Airport Housing Society  Rawalpindi  For Rent\n",
       "39559           Flat              Mehmoodabad     Karachi  For Rent"
      ]
     },
     "execution_count": 143,
     "metadata": {},
     "output_type": "execute_result"
    }
   ],
   "source": [
    "df_cat.head()"
   ]
  },
  {
   "cell_type": "code",
   "execution_count": 144,
   "id": "b0988fb3-0080-4759-911c-1940d7cef459",
   "metadata": {},
   "outputs": [
    {
     "data": {
      "text/html": [
       "<div>\n",
       "<style scoped>\n",
       "    .dataframe tbody tr th:only-of-type {\n",
       "        vertical-align: middle;\n",
       "    }\n",
       "\n",
       "    .dataframe tbody tr th {\n",
       "        vertical-align: top;\n",
       "    }\n",
       "\n",
       "    .dataframe thead th {\n",
       "        text-align: right;\n",
       "    }\n",
       "</style>\n",
       "<table border=\"1\" class=\"dataframe\">\n",
       "  <thead>\n",
       "    <tr style=\"text-align: right;\">\n",
       "      <th></th>\n",
       "      <th>price</th>\n",
       "      <th>baths</th>\n",
       "      <th>bedrooms</th>\n",
       "      <th>Area_in_Marla</th>\n",
       "    </tr>\n",
       "  </thead>\n",
       "  <tbody>\n",
       "    <tr>\n",
       "      <th>77095</th>\n",
       "      <td>15500.0</td>\n",
       "      <td>2</td>\n",
       "      <td>2</td>\n",
       "      <td>5.0</td>\n",
       "    </tr>\n",
       "    <tr>\n",
       "      <th>64643</th>\n",
       "      <td>15500.0</td>\n",
       "      <td>2</td>\n",
       "      <td>2</td>\n",
       "      <td>5.0</td>\n",
       "    </tr>\n",
       "    <tr>\n",
       "      <th>99086</th>\n",
       "      <td>15500.0</td>\n",
       "      <td>2</td>\n",
       "      <td>2</td>\n",
       "      <td>4.0</td>\n",
       "    </tr>\n",
       "    <tr>\n",
       "      <th>64646</th>\n",
       "      <td>15500.0</td>\n",
       "      <td>2</td>\n",
       "      <td>2</td>\n",
       "      <td>5.0</td>\n",
       "    </tr>\n",
       "    <tr>\n",
       "      <th>39559</th>\n",
       "      <td>15500.0</td>\n",
       "      <td>2</td>\n",
       "      <td>2</td>\n",
       "      <td>2.6</td>\n",
       "    </tr>\n",
       "  </tbody>\n",
       "</table>\n",
       "</div>"
      ],
      "text/plain": [
       "         price  baths  bedrooms  Area_in_Marla\n",
       "77095  15500.0      2         2            5.0\n",
       "64643  15500.0      2         2            5.0\n",
       "99086  15500.0      2         2            4.0\n",
       "64646  15500.0      2         2            5.0\n",
       "39559  15500.0      2         2            2.6"
      ]
     },
     "execution_count": 144,
     "metadata": {},
     "output_type": "execute_result"
    }
   ],
   "source": [
    "df_num.head()"
   ]
  },
  {
   "cell_type": "code",
   "execution_count": 145,
   "id": "344bdab4-334f-46d7-9ced-6c32dfa59d11",
   "metadata": {},
   "outputs": [],
   "source": [
    "from sklearn.preprocessing import LabelEncoder"
   ]
  },
  {
   "cell_type": "code",
   "execution_count": 146,
   "id": "f425eaa3-f878-40ce-b925-d4115daa12af",
   "metadata": {},
   "outputs": [],
   "source": [
    "for col in df_cat:\n",
    "    le = LabelEncoder()\n",
    "    df_cat[col] = le.fit_transform(df_cat[col])"
   ]
  },
  {
   "cell_type": "code",
   "execution_count": 147,
   "id": "54d5ea67-58aa-46ef-b4ad-b8ebc7f29587",
   "metadata": {},
   "outputs": [],
   "source": [
    "df = pd.concat([df_cat,df_num],axis = 1)"
   ]
  },
  {
   "cell_type": "code",
   "execution_count": 148,
   "id": "b98a2872-e44d-4248-8e4c-fcf19d79670a",
   "metadata": {},
   "outputs": [
    {
     "data": {
      "text/html": [
       "<div>\n",
       "<style scoped>\n",
       "    .dataframe tbody tr th:only-of-type {\n",
       "        vertical-align: middle;\n",
       "    }\n",
       "\n",
       "    .dataframe tbody tr th {\n",
       "        vertical-align: top;\n",
       "    }\n",
       "\n",
       "    .dataframe thead th {\n",
       "        text-align: right;\n",
       "    }\n",
       "</style>\n",
       "<table border=\"1\" class=\"dataframe\">\n",
       "  <thead>\n",
       "    <tr style=\"text-align: right;\">\n",
       "      <th></th>\n",
       "      <th>property_type</th>\n",
       "      <th>location</th>\n",
       "      <th>city</th>\n",
       "      <th>purpose</th>\n",
       "      <th>price</th>\n",
       "      <th>baths</th>\n",
       "      <th>bedrooms</th>\n",
       "      <th>Area_in_Marla</th>\n",
       "    </tr>\n",
       "  </thead>\n",
       "  <tbody>\n",
       "    <tr>\n",
       "      <th>77095</th>\n",
       "      <td>1</td>\n",
       "      <td>190</td>\n",
       "      <td>4</td>\n",
       "      <td>0</td>\n",
       "      <td>15500.0</td>\n",
       "      <td>2</td>\n",
       "      <td>2</td>\n",
       "      <td>5.0</td>\n",
       "    </tr>\n",
       "    <tr>\n",
       "      <th>64643</th>\n",
       "      <td>3</td>\n",
       "      <td>46</td>\n",
       "      <td>4</td>\n",
       "      <td>0</td>\n",
       "      <td>15500.0</td>\n",
       "      <td>2</td>\n",
       "      <td>2</td>\n",
       "      <td>5.0</td>\n",
       "    </tr>\n",
       "    <tr>\n",
       "      <th>99086</th>\n",
       "      <td>1</td>\n",
       "      <td>1263</td>\n",
       "      <td>1</td>\n",
       "      <td>0</td>\n",
       "      <td>15500.0</td>\n",
       "      <td>2</td>\n",
       "      <td>2</td>\n",
       "      <td>4.0</td>\n",
       "    </tr>\n",
       "    <tr>\n",
       "      <th>64646</th>\n",
       "      <td>6</td>\n",
       "      <td>46</td>\n",
       "      <td>4</td>\n",
       "      <td>0</td>\n",
       "      <td>15500.0</td>\n",
       "      <td>2</td>\n",
       "      <td>2</td>\n",
       "      <td>5.0</td>\n",
       "    </tr>\n",
       "    <tr>\n",
       "      <th>39559</th>\n",
       "      <td>1</td>\n",
       "      <td>868</td>\n",
       "      <td>2</td>\n",
       "      <td>0</td>\n",
       "      <td>15500.0</td>\n",
       "      <td>2</td>\n",
       "      <td>2</td>\n",
       "      <td>2.6</td>\n",
       "    </tr>\n",
       "  </tbody>\n",
       "</table>\n",
       "</div>"
      ],
      "text/plain": [
       "       property_type  location  city  purpose    price  baths  bedrooms  \\\n",
       "77095              1       190     4        0  15500.0      2         2   \n",
       "64643              3        46     4        0  15500.0      2         2   \n",
       "99086              1      1263     1        0  15500.0      2         2   \n",
       "64646              6        46     4        0  15500.0      2         2   \n",
       "39559              1       868     2        0  15500.0      2         2   \n",
       "\n",
       "       Area_in_Marla  \n",
       "77095            5.0  \n",
       "64643            5.0  \n",
       "99086            4.0  \n",
       "64646            5.0  \n",
       "39559            2.6  "
      ]
     },
     "execution_count": 148,
     "metadata": {},
     "output_type": "execute_result"
    }
   ],
   "source": [
    "df.head()"
   ]
  },
  {
   "cell_type": "code",
   "execution_count": 149,
   "id": "67de8b26-3a76-472c-beee-db1bf63944a3",
   "metadata": {},
   "outputs": [
    {
     "data": {
      "text/html": [
       "<div>\n",
       "<style scoped>\n",
       "    .dataframe tbody tr th:only-of-type {\n",
       "        vertical-align: middle;\n",
       "    }\n",
       "\n",
       "    .dataframe tbody tr th {\n",
       "        vertical-align: top;\n",
       "    }\n",
       "\n",
       "    .dataframe thead th {\n",
       "        text-align: right;\n",
       "    }\n",
       "</style>\n",
       "<table border=\"1\" class=\"dataframe\">\n",
       "  <thead>\n",
       "    <tr style=\"text-align: right;\">\n",
       "      <th></th>\n",
       "      <th>property_type</th>\n",
       "      <th>location</th>\n",
       "      <th>city</th>\n",
       "      <th>purpose</th>\n",
       "      <th>price</th>\n",
       "      <th>baths</th>\n",
       "      <th>bedrooms</th>\n",
       "      <th>Area_in_Marla</th>\n",
       "    </tr>\n",
       "  </thead>\n",
       "  <tbody>\n",
       "    <tr>\n",
       "      <th>count</th>\n",
       "      <td>99499.000000</td>\n",
       "      <td>99499.000000</td>\n",
       "      <td>99499.000000</td>\n",
       "      <td>99499.000000</td>\n",
       "      <td>9.949900e+04</td>\n",
       "      <td>99499.000000</td>\n",
       "      <td>99499.000000</td>\n",
       "      <td>99499.000000</td>\n",
       "    </tr>\n",
       "    <tr>\n",
       "      <th>mean</th>\n",
       "      <td>2.141750</td>\n",
       "      <td>519.527151</td>\n",
       "      <td>2.231078</td>\n",
       "      <td>0.713042</td>\n",
       "      <td>9.493406e+06</td>\n",
       "      <td>3.530106</td>\n",
       "      <td>3.350737</td>\n",
       "      <td>8.757479</td>\n",
       "    </tr>\n",
       "    <tr>\n",
       "      <th>std</th>\n",
       "      <td>1.308558</td>\n",
       "      <td>343.117461</td>\n",
       "      <td>0.997631</td>\n",
       "      <td>0.452344</td>\n",
       "      <td>9.380507e+06</td>\n",
       "      <td>1.474217</td>\n",
       "      <td>1.255913</td>\n",
       "      <td>7.466471</td>\n",
       "    </tr>\n",
       "    <tr>\n",
       "      <th>min</th>\n",
       "      <td>0.000000</td>\n",
       "      <td>0.000000</td>\n",
       "      <td>0.000000</td>\n",
       "      <td>0.000000</td>\n",
       "      <td>1.550000e+04</td>\n",
       "      <td>1.000000</td>\n",
       "      <td>0.000000</td>\n",
       "      <td>0.000000</td>\n",
       "    </tr>\n",
       "    <tr>\n",
       "      <th>25%</th>\n",
       "      <td>1.000000</td>\n",
       "      <td>236.000000</td>\n",
       "      <td>2.000000</td>\n",
       "      <td>0.000000</td>\n",
       "      <td>1.500000e+05</td>\n",
       "      <td>2.000000</td>\n",
       "      <td>2.000000</td>\n",
       "      <td>4.800000</td>\n",
       "    </tr>\n",
       "    <tr>\n",
       "      <th>50%</th>\n",
       "      <td>2.000000</td>\n",
       "      <td>415.000000</td>\n",
       "      <td>2.000000</td>\n",
       "      <td>1.000000</td>\n",
       "      <td>7.500000e+06</td>\n",
       "      <td>3.000000</td>\n",
       "      <td>3.000000</td>\n",
       "      <td>6.700000</td>\n",
       "    </tr>\n",
       "    <tr>\n",
       "      <th>75%</th>\n",
       "      <td>2.000000</td>\n",
       "      <td>702.000000</td>\n",
       "      <td>3.000000</td>\n",
       "      <td>1.000000</td>\n",
       "      <td>1.480000e+07</td>\n",
       "      <td>5.000000</td>\n",
       "      <td>4.000000</td>\n",
       "      <td>10.000000</td>\n",
       "    </tr>\n",
       "    <tr>\n",
       "      <th>max</th>\n",
       "      <td>6.000000</td>\n",
       "      <td>1388.000000</td>\n",
       "      <td>4.000000</td>\n",
       "      <td>1.000000</td>\n",
       "      <td>3.850000e+07</td>\n",
       "      <td>7.000000</td>\n",
       "      <td>6.000000</td>\n",
       "      <td>194.000000</td>\n",
       "    </tr>\n",
       "  </tbody>\n",
       "</table>\n",
       "</div>"
      ],
      "text/plain": [
       "       property_type      location          city       purpose         price  \\\n",
       "count   99499.000000  99499.000000  99499.000000  99499.000000  9.949900e+04   \n",
       "mean        2.141750    519.527151      2.231078      0.713042  9.493406e+06   \n",
       "std         1.308558    343.117461      0.997631      0.452344  9.380507e+06   \n",
       "min         0.000000      0.000000      0.000000      0.000000  1.550000e+04   \n",
       "25%         1.000000    236.000000      2.000000      0.000000  1.500000e+05   \n",
       "50%         2.000000    415.000000      2.000000      1.000000  7.500000e+06   \n",
       "75%         2.000000    702.000000      3.000000      1.000000  1.480000e+07   \n",
       "max         6.000000   1388.000000      4.000000      1.000000  3.850000e+07   \n",
       "\n",
       "              baths      bedrooms  Area_in_Marla  \n",
       "count  99499.000000  99499.000000   99499.000000  \n",
       "mean       3.530106      3.350737       8.757479  \n",
       "std        1.474217      1.255913       7.466471  \n",
       "min        1.000000      0.000000       0.000000  \n",
       "25%        2.000000      2.000000       4.800000  \n",
       "50%        3.000000      3.000000       6.700000  \n",
       "75%        5.000000      4.000000      10.000000  \n",
       "max        7.000000      6.000000     194.000000  "
      ]
     },
     "execution_count": 149,
     "metadata": {},
     "output_type": "execute_result"
    }
   ],
   "source": [
    "df.describe()"
   ]
  },
  {
   "cell_type": "code",
   "execution_count": 150,
   "id": "b794f2ff-9b9b-41dd-9667-4f5339213871",
   "metadata": {},
   "outputs": [
    {
     "data": {
      "image/png": "[encoded data removed]",
      "text/plain": [
       "<Figure size 640x480 with 2 Axes>"
      ]
     },
     "metadata": {},
     "output_type": "display_data"
    }
   ],
   "source": [
    "corr = df.corr()\n",
    "sns.heatmap(corr, annot = True)\n",
    "plt.show()"
   ]
  },
  {
   "cell_type": "code",
   "execution_count": 151,
   "id": "6581aed2-a04f-4e68-8543-f150452545b6",
   "metadata": {},
   "outputs": [
    {
     "data": {
      "text/html": [
       "<div>\n",
       "<style scoped>\n",
       "    .dataframe tbody tr th:only-of-type {\n",
       "        vertical-align: middle;\n",
       "    }\n",
       "\n",
       "    .dataframe tbody tr th {\n",
       "        vertical-align: top;\n",
       "    }\n",
       "\n",
       "    .dataframe thead th {\n",
       "        text-align: right;\n",
       "    }\n",
       "</style>\n",
       "<table border=\"1\" class=\"dataframe\">\n",
       "  <thead>\n",
       "    <tr style=\"text-align: right;\">\n",
       "      <th></th>\n",
       "      <th>property_type</th>\n",
       "      <th>location</th>\n",
       "      <th>city</th>\n",
       "      <th>purpose</th>\n",
       "      <th>price</th>\n",
       "      <th>baths</th>\n",
       "      <th>bedrooms</th>\n",
       "      <th>Area_in_Marla</th>\n",
       "    </tr>\n",
       "  </thead>\n",
       "  <tbody>\n",
       "    <tr>\n",
       "      <th>77095</th>\n",
       "      <td>1</td>\n",
       "      <td>190</td>\n",
       "      <td>4</td>\n",
       "      <td>0</td>\n",
       "      <td>15500.0</td>\n",
       "      <td>2</td>\n",
       "      <td>2</td>\n",
       "      <td>5.0</td>\n",
       "    </tr>\n",
       "    <tr>\n",
       "      <th>64643</th>\n",
       "      <td>3</td>\n",
       "      <td>46</td>\n",
       "      <td>4</td>\n",
       "      <td>0</td>\n",
       "      <td>15500.0</td>\n",
       "      <td>2</td>\n",
       "      <td>2</td>\n",
       "      <td>5.0</td>\n",
       "    </tr>\n",
       "    <tr>\n",
       "      <th>99086</th>\n",
       "      <td>1</td>\n",
       "      <td>1263</td>\n",
       "      <td>1</td>\n",
       "      <td>0</td>\n",
       "      <td>15500.0</td>\n",
       "      <td>2</td>\n",
       "      <td>2</td>\n",
       "      <td>4.0</td>\n",
       "    </tr>\n",
       "    <tr>\n",
       "      <th>64646</th>\n",
       "      <td>6</td>\n",
       "      <td>46</td>\n",
       "      <td>4</td>\n",
       "      <td>0</td>\n",
       "      <td>15500.0</td>\n",
       "      <td>2</td>\n",
       "      <td>2</td>\n",
       "      <td>5.0</td>\n",
       "    </tr>\n",
       "    <tr>\n",
       "      <th>39559</th>\n",
       "      <td>1</td>\n",
       "      <td>868</td>\n",
       "      <td>2</td>\n",
       "      <td>0</td>\n",
       "      <td>15500.0</td>\n",
       "      <td>2</td>\n",
       "      <td>2</td>\n",
       "      <td>2.6</td>\n",
       "    </tr>\n",
       "  </tbody>\n",
       "</table>\n",
       "</div>"
      ],
      "text/plain": [
       "       property_type  location  city  purpose    price  baths  bedrooms  \\\n",
       "77095              1       190     4        0  15500.0      2         2   \n",
       "64643              3        46     4        0  15500.0      2         2   \n",
       "99086              1      1263     1        0  15500.0      2         2   \n",
       "64646              6        46     4        0  15500.0      2         2   \n",
       "39559              1       868     2        0  15500.0      2         2   \n",
       "\n",
       "       Area_in_Marla  \n",
       "77095            5.0  \n",
       "64643            5.0  \n",
       "99086            4.0  \n",
       "64646            5.0  \n",
       "39559            2.6  "
      ]
     },
     "execution_count": 151,
     "metadata": {},
     "output_type": "execute_result"
    }
   ],
   "source": [
    "df.head()"
   ]
  },
  {
   "cell_type": "code",
   "execution_count": 152,
   "id": "1c7eab3f-b36d-4c32-b216-0b7d6ec81a82",
   "metadata": {},
   "outputs": [
    {
     "data": {
      "text/html": [
       "<div>\n",
       "<style scoped>\n",
       "    .dataframe tbody tr th:only-of-type {\n",
       "        vertical-align: middle;\n",
       "    }\n",
       "\n",
       "    .dataframe tbody tr th {\n",
       "        vertical-align: top;\n",
       "    }\n",
       "\n",
       "    .dataframe thead th {\n",
       "        text-align: right;\n",
       "    }\n",
       "</style>\n",
       "<table border=\"1\" class=\"dataframe\">\n",
       "  <thead>\n",
       "    <tr style=\"text-align: right;\">\n",
       "      <th></th>\n",
       "      <th>property_type</th>\n",
       "      <th>location</th>\n",
       "      <th>city</th>\n",
       "      <th>purpose</th>\n",
       "      <th>baths</th>\n",
       "      <th>bedrooms</th>\n",
       "      <th>Area_in_Marla</th>\n",
       "    </tr>\n",
       "  </thead>\n",
       "  <tbody>\n",
       "    <tr>\n",
       "      <th>77095</th>\n",
       "      <td>1</td>\n",
       "      <td>190</td>\n",
       "      <td>4</td>\n",
       "      <td>0</td>\n",
       "      <td>2</td>\n",
       "      <td>2</td>\n",
       "      <td>5.0</td>\n",
       "    </tr>\n",
       "    <tr>\n",
       "      <th>64643</th>\n",
       "      <td>3</td>\n",
       "      <td>46</td>\n",
       "      <td>4</td>\n",
       "      <td>0</td>\n",
       "      <td>2</td>\n",
       "      <td>2</td>\n",
       "      <td>5.0</td>\n",
       "    </tr>\n",
       "    <tr>\n",
       "      <th>99086</th>\n",
       "      <td>1</td>\n",
       "      <td>1263</td>\n",
       "      <td>1</td>\n",
       "      <td>0</td>\n",
       "      <td>2</td>\n",
       "      <td>2</td>\n",
       "      <td>4.0</td>\n",
       "    </tr>\n",
       "    <tr>\n",
       "      <th>64646</th>\n",
       "      <td>6</td>\n",
       "      <td>46</td>\n",
       "      <td>4</td>\n",
       "      <td>0</td>\n",
       "      <td>2</td>\n",
       "      <td>2</td>\n",
       "      <td>5.0</td>\n",
       "    </tr>\n",
       "    <tr>\n",
       "      <th>39559</th>\n",
       "      <td>1</td>\n",
       "      <td>868</td>\n",
       "      <td>2</td>\n",
       "      <td>0</td>\n",
       "      <td>2</td>\n",
       "      <td>2</td>\n",
       "      <td>2.6</td>\n",
       "    </tr>\n",
       "    <tr>\n",
       "      <th>...</th>\n",
       "      <td>...</td>\n",
       "      <td>...</td>\n",
       "      <td>...</td>\n",
       "      <td>...</td>\n",
       "      <td>...</td>\n",
       "      <td>...</td>\n",
       "      <td>...</td>\n",
       "    </tr>\n",
       "    <tr>\n",
       "      <th>79838</th>\n",
       "      <td>2</td>\n",
       "      <td>327</td>\n",
       "      <td>3</td>\n",
       "      <td>1</td>\n",
       "      <td>6</td>\n",
       "      <td>5</td>\n",
       "      <td>20.0</td>\n",
       "    </tr>\n",
       "    <tr>\n",
       "      <th>72408</th>\n",
       "      <td>2</td>\n",
       "      <td>327</td>\n",
       "      <td>3</td>\n",
       "      <td>1</td>\n",
       "      <td>6</td>\n",
       "      <td>5</td>\n",
       "      <td>20.0</td>\n",
       "    </tr>\n",
       "    <tr>\n",
       "      <th>77477</th>\n",
       "      <td>2</td>\n",
       "      <td>327</td>\n",
       "      <td>3</td>\n",
       "      <td>1</td>\n",
       "      <td>6</td>\n",
       "      <td>5</td>\n",
       "      <td>20.0</td>\n",
       "    </tr>\n",
       "    <tr>\n",
       "      <th>43322</th>\n",
       "      <td>2</td>\n",
       "      <td>689</td>\n",
       "      <td>3</td>\n",
       "      <td>1</td>\n",
       "      <td>6</td>\n",
       "      <td>5</td>\n",
       "      <td>24.0</td>\n",
       "    </tr>\n",
       "    <tr>\n",
       "      <th>91824</th>\n",
       "      <td>2</td>\n",
       "      <td>327</td>\n",
       "      <td>3</td>\n",
       "      <td>1</td>\n",
       "      <td>6</td>\n",
       "      <td>5</td>\n",
       "      <td>20.0</td>\n",
       "    </tr>\n",
       "  </tbody>\n",
       "</table>\n",
       "<p>99499 rows × 7 columns</p>\n",
       "</div>"
      ],
      "text/plain": [
       "       property_type  location  city  purpose  baths  bedrooms  Area_in_Marla\n",
       "77095              1       190     4        0      2         2            5.0\n",
       "64643              3        46     4        0      2         2            5.0\n",
       "99086              1      1263     1        0      2         2            4.0\n",
       "64646              6        46     4        0      2         2            5.0\n",
       "39559              1       868     2        0      2         2            2.6\n",
       "...              ...       ...   ...      ...    ...       ...            ...\n",
       "79838              2       327     3        1      6         5           20.0\n",
       "72408              2       327     3        1      6         5           20.0\n",
       "77477              2       327     3        1      6         5           20.0\n",
       "43322              2       689     3        1      6         5           24.0\n",
       "91824              2       327     3        1      6         5           20.0\n",
       "\n",
       "[99499 rows x 7 columns]"
      ]
     },
     "execution_count": 152,
     "metadata": {},
     "output_type": "execute_result"
    }
   ],
   "source": [
    "x = df.drop(['price'],axis = 1)\n",
    "x"
   ]
  },
  {
   "cell_type": "code",
   "execution_count": 153,
   "id": "3ffb4bb0-8e9d-410d-8eb7-3f85c8816f46",
   "metadata": {},
   "outputs": [
    {
     "data": {
      "text/plain": [
       "77095      15500.0\n",
       "64643      15500.0\n",
       "99086      15500.0\n",
       "64646      15500.0\n",
       "39559      15500.0\n",
       "           ...    \n",
       "79838    7500000.0\n",
       "72408    7500000.0\n",
       "77477    7500000.0\n",
       "43322    7500000.0\n",
       "91824    7500000.0\n",
       "Name: price, Length: 99499, dtype: float64"
      ]
     },
     "execution_count": 153,
     "metadata": {},
     "output_type": "execute_result"
    }
   ],
   "source": [
    "y = df.price\n",
    "y"
   ]
  },
  {
   "cell_type": "code",
   "execution_count": 154,
   "id": "8ba22fbe-b0f8-4b0d-9c18-24204010b2bf",
   "metadata": {},
   "outputs": [],
   "source": [
    "from sklearn.model_selection import train_test_split"
   ]
  },
  {
   "cell_type": "code",
   "execution_count": 155,
   "id": "7027517a-6e90-4f3b-90dd-deb79e4f80d8",
   "metadata": {},
   "outputs": [],
   "source": [
    "xtrain,xtest,ytrain,ytest = train_test_split(x,y,test_size = 0.30,random_state = 1)"
   ]
  },
  {
   "cell_type": "code",
   "execution_count": 156,
   "id": "6f5f6a57-2d91-4fba-8a3d-30131a8613eb",
   "metadata": {},
   "outputs": [],
   "source": [
    "from sklearn.preprocessing import StandardScaler"
   ]
  },
  {
   "cell_type": "code",
   "execution_count": 157,
   "id": "24d42e16-e2ff-4b3d-b1fb-e299329ccaac",
   "metadata": {},
   "outputs": [],
   "source": [
    "ss = StandardScaler()\n",
    "xtrain = ss.fit_transform(xtrain)\n",
    "xtest = ss.fit_transform(xtest)"
   ]
  },
  {
   "cell_type": "code",
   "execution_count": 158,
   "id": "d072210c-8743-40ca-bf4c-4ea4cf8048ac",
   "metadata": {},
   "outputs": [],
   "source": [
    "from sklearn.linear_model import LinearRegression"
   ]
  },
  {
   "cell_type": "code",
   "execution_count": 159,
   "id": "8b2e024a-084b-455c-b29e-1fcd9e5be2db",
   "metadata": {},
   "outputs": [],
   "source": [
    "lr = LinearRegression()\n",
    "lr.fit(xtrain,ytrain)\n",
    "ypred = lr.predict(xtest)"
   ]
  },
  {
   "cell_type": "code",
   "execution_count": 160,
   "id": "007b2ca8-5748-404b-94ce-bb21931e99ca",
   "metadata": {},
   "outputs": [],
   "source": [
    "from sklearn.metrics import r2_score,mean_absolute_error,mean_squared_error"
   ]
  },
  {
   "cell_type": "code",
   "execution_count": 161,
   "id": "c0bc5a5c-acf2-43a4-a662-3089cfb02d48",
   "metadata": {},
   "outputs": [
    {
     "data": {
      "text/plain": [
       "0.5578037485761174"
      ]
     },
     "execution_count": 161,
     "metadata": {},
     "output_type": "execute_result"
    }
   ],
   "source": [
    "r2_score(ytest,ypred)"
   ]
  },
  {
   "cell_type": "code",
   "execution_count": 162,
   "id": "6b92c624-7258-4066-8dab-3dca02397803",
   "metadata": {},
   "outputs": [
    {
     "data": {
      "text/plain": [
       "0.5566170082726545"
      ]
     },
     "execution_count": 162,
     "metadata": {},
     "output_type": "execute_result"
    }
   ],
   "source": [
    "lr.score(xtrain,ytrain)"
   ]
  },
  {
   "cell_type": "code",
   "execution_count": 163,
   "id": "252c3d94-95e0-4d41-a89b-21113df8541e",
   "metadata": {},
   "outputs": [
    {
     "data": {
      "text/plain": [
       "4679984.891494319"
      ]
     },
     "execution_count": 163,
     "metadata": {},
     "output_type": "execute_result"
    }
   ],
   "source": [
    "mean_absolute_error(ytest,ypred)"
   ]
  },
  {
   "cell_type": "code",
   "execution_count": 164,
   "id": "5db29810-46f0-4cf5-a040-6930cbecef4f",
   "metadata": {},
   "outputs": [
    {
     "data": {
      "text/plain": [
       "39171140499692.46"
      ]
     },
     "execution_count": 164,
     "metadata": {},
     "output_type": "execute_result"
    }
   ],
   "source": [
    "mean_squared_error(ytest,ypred)"
   ]
  },
  {
   "cell_type": "code",
   "execution_count": 165,
   "id": "73d13734-1a99-4f54-9f15-8a921530eb1f",
   "metadata": {},
   "outputs": [
    {
     "data": {
      "image/png": "[encoded data removed]",
      "text/plain": [
       "<Figure size 640x480 with 1 Axes>"
      ]
     },
     "metadata": {},
     "output_type": "display_data"
    }
   ],
   "source": [
    "plt.scatter(ytest,ypred)\n",
    "plt.show()"
   ]
  },
  {
   "cell_type": "code",
   "execution_count": 166,
   "id": "0672017a-1e38-4204-bc89-e33ffcf6af70",
   "metadata": {},
   "outputs": [
    {
     "data": {
      "text/plain": [
       "6258685.205352036"
      ]
     },
     "execution_count": 166,
     "metadata": {},
     "output_type": "execute_result"
    }
   ],
   "source": [
    "np.sqrt(mean_squared_error(ytest,ypred))"
   ]
  },
  {
   "cell_type": "code",
   "execution_count": 167,
   "id": "b216b18e-0494-4eaa-8f34-93c7b56a4a13",
   "metadata": {},
   "outputs": [],
   "source": [
    "from sklearn.preprocessing import PolynomialFeatures"
   ]
  },
  {
   "cell_type": "code",
   "execution_count": 168,
   "id": "ab46e38d-382e-495e-87dd-57f335fe30e6",
   "metadata": {},
   "outputs": [
    {
     "name": "stdout",
     "output_type": "stream",
     "text": [
      "0.5578037485761174\n"
     ]
    }
   ],
   "source": [
    "pf = PolynomialFeatures(degree = 1)\n",
    "polyx = pf.fit_transform(xtrain)\n",
    "lr.fit(polyx,ytrain)\n",
    "ypr = lr.predict(pf.fit_transform(xtest))\n",
    "ac = r2_score(ytest,ypr)\n",
    "print(ac)"
   ]
  },
  {
   "cell_type": "code",
   "execution_count": 169,
   "id": "cf4b1a6f-5d6e-4921-97bc-95300ca610f2",
   "metadata": {},
   "outputs": [],
   "source": [
    "from sklearn.linear_model import Ridge,Lasso"
   ]
  },
  {
   "cell_type": "code",
   "execution_count": 170,
   "id": "5eaaaa67-d067-473c-bb28-be5b20526146",
   "metadata": {},
   "outputs": [
    {
     "name": "stdout",
     "output_type": "stream",
     "text": [
      "0.5578036387940274\n",
      "0.5578035287284999\n",
      "0.5578034183795966\n",
      "0.5578033077473787\n",
      "0.5578031968319082\n",
      "0.5578030856332461\n",
      "0.5578029741514541\n",
      "0.5578028623865938\n",
      "0.5578027503387261\n",
      "0.5578026380079127\n",
      "0.5578025253942152\n",
      "0.5578024124976942\n",
      "0.5578022993184117\n",
      "0.5578021858564288\n",
      "0.5578020721118067\n",
      "0.5578019580846064\n",
      "0.5578018437748895\n",
      "0.5578017291827172\n",
      "0.5578016143081503\n",
      "0.5578014991512503\n",
      "0.5578013837120783\n",
      "0.5578012679906953\n",
      "0.5578011519871624\n",
      "0.5578010357015406\n",
      "0.5578009191338911\n",
      "0.5578008022842748\n",
      "0.5578006851527526\n",
      "0.5578005677393858\n",
      "0.557800450044235\n",
      "0.5578003320673612\n",
      "0.5578002138088254\n",
      "0.5578000952686886\n",
      "0.5577999764470114\n",
      "0.5577998573438547\n",
      "0.5577997379592794\n",
      "0.5577996182933462\n",
      "0.5577994983461161\n",
      "0.5577993781176493\n",
      "0.5577992576080072\n",
      "0.5577991368172499\n",
      "0.5577990157454387\n",
      "0.5577988943926337\n",
      "0.5577987727588958\n",
      "0.5577986508442856\n",
      "0.5577985286488636\n",
      "0.5577984061726904\n",
      "0.5577982834158266\n",
      "0.5577981603783327\n",
      "0.5577980370602692\n",
      "0.5577979134616964\n",
      "0.5577977895826752\n",
      "0.5577976654232656\n",
      "0.5577975409835283\n",
      "0.5577974162635233\n",
      "0.5577972912633115\n",
      "0.5577971659829528\n",
      "0.5577970404225078\n",
      "0.5577969145820365\n",
      "0.5577967884615996\n",
      "0.557796662061257\n",
      "0.5577965353810691\n",
      "0.557796408421096\n",
      "0.557796281181398\n",
      "0.5577961536620353\n",
      "0.557796025863068\n",
      "0.5577958977845561\n",
      "0.5577957694265598\n",
      "0.5577956407891393\n",
      "0.5577955118723544\n",
      "0.5577953826762654\n",
      "0.557795253200932\n",
      "0.5577951234464145\n",
      "0.5577949934127728\n",
      "0.5577948631000668\n",
      "0.5577947325083563\n",
      "0.5577946016377014\n",
      "0.5577944704881619\n",
      "0.5577943390597977\n",
      "0.5577942073526686\n",
      "0.5577940753668345\n",
      "0.557793943102355\n",
      "0.5577938105592899\n",
      "0.5577936777376992\n",
      "0.5577935446376423\n",
      "0.5577934112591794\n",
      "0.5577932776023697\n",
      "0.557793143667273\n",
      "0.5577930094539489\n",
      "0.5577928749624572\n",
      "0.5577927401928573\n",
      "0.557792605145209\n",
      "0.5577924698195716\n",
      "0.5577923342160049\n",
      "0.5577921983345681\n",
      "0.557792062175321\n",
      "0.5577919257383228\n",
      "0.5577917890236331\n",
      "0.5577916520313113\n",
      "0.5577915147614169\n"
     ]
    }
   ],
   "source": [
    "for i in range(1,100):\n",
    "    r = Ridge(alpha = i)\n",
    "    r.fit(xtrain,ytrain)\n",
    "    yp = r.predict(xtest)\n",
    "    ac = r2_score(ytest,yp)\n",
    "    print(ac)"
   ]
  },
  {
   "cell_type": "code",
   "execution_count": 171,
   "id": "6eda3238-77e6-4020-83f4-47f58150ddc7",
   "metadata": {},
   "outputs": [
    {
     "name": "stdout",
     "output_type": "stream",
     "text": [
      "0.5578037495073533\n",
      "0.5578037504578258\n",
      "0.5578037514266431\n",
      "0.5578037523739396\n",
      "0.5578037532923599\n",
      "0.5578037541720147\n",
      "0.5578037552023618\n",
      "0.5578037560298033\n",
      "0.5578037570598524\n",
      "0.557803758089755\n",
      "0.5578037588469456\n",
      "0.5578037598765483\n",
      "0.5578037609060045\n",
      "0.5578037615688831\n",
      "0.5578037625980373\n",
      "0.5578037636270449\n",
      "0.5578037646559059\n",
      "0.5578037656846203\n",
      "0.5578037662204947\n",
      "0.557803767248904\n",
      "0.5578037682771668\n",
      "0.5578037693052831\n",
      "0.5578037703332527\n",
      "0.5578037713610757\n",
      "0.5578037717261874\n",
      "0.5578037727537013\n",
      "0.5578037737810684\n",
      "0.5578037748082891\n",
      "0.5578037758353633\n",
      "0.5578037768622909\n",
      "0.5578037778890719\n",
      "0.5578037789157063\n",
      "0.5578037790509912\n",
      "0.5578037800773108\n",
      "0.5578037811034839\n",
      "0.5578037821295105\n",
      "0.5578037831553906\n",
      "0.5578037841811239\n",
      "0.5578037852067107\n",
      "0.5578037862321509\n",
      "0.5578037872574446\n",
      "0.5578037882825917\n",
      "0.5578037893075922\n",
      "0.5578037903324462\n",
      "0.5578037901580177\n",
      "0.5578037911825495\n",
      "0.5578037922069348\n",
      "0.5578037932311735\n",
      "0.5578037942552654\n",
      "0.557803795279211\n",
      "0.5578037963030099\n",
      "0.5578037973266623\n",
      "0.557803798350168\n",
      "0.5578037993735272\n",
      "0.55780380039674\n",
      "0.5578038014198061\n",
      "0.5578038024427256\n",
      "0.5578038034654986\n",
      "0.5578038044881249\n",
      "0.557803803896515\n",
      "0.5578038049188093\n",
      "0.5578038059409569\n",
      "0.5578038069629581\n",
      "0.5578038079848124\n",
      "0.5578038090065205\n",
      "0.5578038100280819\n",
      "0.5578038110494965\n",
      "0.5578038120707649\n",
      "0.5578038130918865\n",
      "0.5578038141128615\n",
      "0.5578038151336902\n",
      "0.557803816154372\n",
      "0.5578038171749073\n",
      "0.5578038181952962\n",
      "0.5578038192155383\n",
      "0.5578038202356341\n",
      "0.5578038212555831\n",
      "0.5578038222753856\n",
      "0.5578038232950417\n",
      "0.5578038221407422\n",
      "0.5578038231600524\n",
      "0.5578038241792163\n",
      "0.5578038251982336\n",
      "0.5578038262171042\n",
      "0.5578038272358282\n",
      "0.5578038282544058\n",
      "0.5578038292728367\n",
      "0.557803830291121\n",
      "0.5578038313092588\n",
      "0.5578038323272503\n",
      "0.5578038333450949\n",
      "0.5578038343627929\n",
      "0.5578038353803445\n",
      "0.5578038363977496\n",
      "0.5578038374150078\n",
      "0.5578038384321198\n",
      "0.557803839449085\n",
      "0.5578038404659036\n",
      "0.5578038414825757\n"
     ]
    }
   ],
   "source": [
    "for i in range(1,100):\n",
    "    r = Lasso(alpha = i)\n",
    "    r.fit(xtrain,ytrain)\n",
    "    yp = r.predict(xtest)\n",
    "    ac = r2_score(ytest,yp)\n",
    "    print(ac)"
   ]
  },
  {
   "cell_type": "code",
   "execution_count": 172,
   "id": "0f4aa4f0-49f9-4e45-ad21-70fba107f52e",
   "metadata": {},
   "outputs": [],
   "source": [
    "from sklearn.ensemble import BaggingRegressor,AdaBoostRegressor,GradientBoostingRegressor\n",
    "from xgboost import XGBRegressor"
   ]
  },
  {
   "cell_type": "code",
   "execution_count": 173,
   "id": "78c4267e-c490-48e7-b4a4-003884b8053b",
   "metadata": {},
   "outputs": [],
   "source": [
    "def mymodel(model):\n",
    "    model.fit(xtrain,ytrain)\n",
    "    ypred = model.predict(xtest)\n",
    "    print(r2_score(ytest,ypred))\n",
    "    print(f'Training Score: {model.score(xtrain,ytrain)}')\n",
    "    print(f'Testing Score: {model.score(xtest,ytest)}')\n",
    "    plt.scatter(ytest,ypred)"
   ]
  },
  {
   "cell_type": "code",
   "execution_count": 174,
   "id": "ca0fc741-adcc-4433-8153-bb8337ca92c7",
   "metadata": {},
   "outputs": [],
   "source": [
    "BRlr = BaggingRegressor(LinearRegression())\n",
    "ada = AdaBoostRegressor()\n",
    "gd = GradientBoostingRegressor()\n",
    "xgd = XGBRegressor()"
   ]
  },
  {
   "cell_type": "code",
   "execution_count": 175,
   "id": "751b4ac2-a6bf-475d-95bf-592758c35e4b",
   "metadata": {},
   "outputs": [
    {
     "name": "stdout",
     "output_type": "stream",
     "text": [
      "0.557801286482112\n",
      "Training Score: 0.5566079414970029\n",
      "Testing Score: 0.557801286482112\n"
     ]
    },
    {
     "data": {
      "image/png": "[encoded data removed]",
      "text/plain": [
       "<Figure size 640x480 with 1 Axes>"
      ]
     },
     "metadata": {},
     "output_type": "display_data"
    }
   ],
   "source": [
    "mymodel(BRlr)"
   ]
  },
  {
   "cell_type": "code",
   "execution_count": 176,
   "id": "20687498-0258-4af8-8592-e8ef17bd2120",
   "metadata": {},
   "outputs": [
    {
     "name": "stdout",
     "output_type": "stream",
     "text": [
      "0.6828192053704327\n",
      "Training Score: 0.6778983790785014\n",
      "Testing Score: 0.6828192053704327\n"
     ]
    },
    {
     "data": {
      "image/png": "[encoded data removed]",
      "text/plain": [
       "<Figure size 640x480 with 1 Axes>"
      ]
     },
     "metadata": {},
     "output_type": "display_data"
    }
   ],
   "source": [
    "mymodel(ada)"
   ]
  },
  {
   "cell_type": "code",
   "execution_count": 177,
   "id": "623eae65-6323-4786-9319-0712d3544c54",
   "metadata": {},
   "outputs": [
    {
     "name": "stdout",
     "output_type": "stream",
     "text": [
      "0.6315746923998034\n",
      "Training Score: 0.8276586887548032\n",
      "Testing Score: 0.6315746923998034\n"
     ]
    },
    {
     "data": {
      "image/png": "[encoded data removed]",
      "text/plain": [
       "<Figure size 640x480 with 1 Axes>"
      ]
     },
     "metadata": {},
     "output_type": "display_data"
    }
   ],
   "source": [
    "mymodel(xgd)"
   ]
  },
  {
   "cell_type": "code",
   "execution_count": 178,
   "id": "0e7ca035-8c94-4eb4-a7a7-14c87281856a",
   "metadata": {},
   "outputs": [
    {
     "name": "stdout",
     "output_type": "stream",
     "text": [
      "0.7441733613726391\n",
      "Training Score: 0.746645550556463\n",
      "Testing Score: 0.7441733613726391\n"
     ]
    },
    {
     "data": {
      "image/png": "[encoded data removed]",
      "text/plain": [
       "<Figure size 640x480 with 1 Axes>"
      ]
     },
     "metadata": {},
     "output_type": "display_data"
    }
   ],
   "source": [
    "# Final Accuracy\n",
    "mymodel(gd)"
   ]
  },
  {
   "cell_type": "code",
   "execution_count": null,
   "id": "0fd15d2d-4ed2-46b4-9a00-be9b14222889",
   "metadata": {},
   "outputs": [],
   "source": []
  }
 ],
 "metadata": {
  "kernelspec": {
   "display_name": "Python 3 (ipykernel)",
   "language": "python",
   "name": "python3"
  },
  "language_info": {
   "codemirror_mode": {
    "name": "ipython",
    "version": 3
   },
   "file_extension": ".py",
   "mimetype": "text/x-python",
   "name": "python",
   "nbconvert_exporter": "python",
   "pygments_lexer": "ipython3",
   "version": "3.11.4"
  }
 },
 "nbformat": 4,
 "nbformat_minor": 5
}
